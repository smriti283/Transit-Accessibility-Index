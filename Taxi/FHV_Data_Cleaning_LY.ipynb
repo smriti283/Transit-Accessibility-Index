{
 "cells": [
  {
   "cell_type": "code",
   "execution_count": 1,
   "id": "statewide-version",
   "metadata": {},
   "outputs": [],
   "source": [
    "import pandas as pd\n",
    "import requests"
   ]
  },
  {
   "cell_type": "code",
   "execution_count": 2,
   "id": "virtual-planning",
   "metadata": {},
   "outputs": [],
   "source": [
    "# API: default is 1000\n",
    "limit = '$limit=100000000'"
   ]
  },
  {
   "cell_type": "markdown",
   "id": "iraqi-bowling",
   "metadata": {},
   "source": [
    "### FHV"
   ]
  },
  {
   "cell_type": "markdown",
   "id": "automotive-production",
   "metadata": {},
   "source": [
    "https://data.cityofnewyork.us/Transportation/2019-For-Hire-Vehicles-Trip-Data/u6nh-b56h"
   ]
  },
  {
   "cell_type": "code",
   "execution_count": 3,
   "id": "great-theory",
   "metadata": {},
   "outputs": [],
   "source": [
    "# base url\n",
    "base_url_fhv = 'https://data.cityofnewyork.us/resource/u6nh-b56h.json'"
   ]
  },
  {
   "cell_type": "code",
   "execution_count": 4,
   "id": "elementary-watershed",
   "metadata": {},
   "outputs": [],
   "source": [
    "# filter for March and April\n",
    "soql_filter_fhv = '?$where=date_extract_m(pickup_datetime) in (3, 4)'"
   ]
  },
  {
   "cell_type": "code",
   "execution_count": 5,
   "id": "rapid-territory",
   "metadata": {},
   "outputs": [
    {
     "name": "stdout",
     "output_type": "stream",
     "text": [
      "https://data.cityofnewyork.us/resource/u6nh-b56h.json?$where=date_extract_m(pickup_datetime) in (3, 4)&$limit=100000000\n"
     ]
    }
   ],
   "source": [
    "# combine base url, filter, and limit\n",
    "final_url_fhv = base_url_fhv + soql_filter_fhv + '&' + limit\n",
    "print(final_url_fhv)"
   ]
  },
  {
   "cell_type": "code",
   "execution_count": 6,
   "id": "after-relative",
   "metadata": {},
   "outputs": [],
   "source": [
    "# retrieve the data \n",
    "request_fhv = requests.get(url=final_url_fhv)\n",
    "df_fhv = pd.DataFrame(request_fhv.json())"
   ]
  },
  {
   "cell_type": "code",
   "execution_count": 7,
   "id": "painted-necklace",
   "metadata": {},
   "outputs": [
    {
     "data": {
      "text/html": [
       "<div>\n",
       "<style scoped>\n",
       "    .dataframe tbody tr th:only-of-type {\n",
       "        vertical-align: middle;\n",
       "    }\n",
       "\n",
       "    .dataframe tbody tr th {\n",
       "        vertical-align: top;\n",
       "    }\n",
       "\n",
       "    .dataframe thead th {\n",
       "        text-align: right;\n",
       "    }\n",
       "</style>\n",
       "<table border=\"1\" class=\"dataframe\">\n",
       "  <thead>\n",
       "    <tr style=\"text-align: right;\">\n",
       "      <th></th>\n",
       "      <th>dispatching_base_num</th>\n",
       "      <th>pickup_datetime</th>\n",
       "      <th>dropoff_datetime</th>\n",
       "      <th>pulocationid</th>\n",
       "      <th>dolocationid</th>\n",
       "    </tr>\n",
       "  </thead>\n",
       "  <tbody>\n",
       "    <tr>\n",
       "      <th>0</th>\n",
       "      <td>B00310</td>\n",
       "      <td>2019-03-06T09:37:12.000</td>\n",
       "      <td>2019-03-06T10:02:37.000</td>\n",
       "      <td>264</td>\n",
       "      <td>265</td>\n",
       "    </tr>\n",
       "    <tr>\n",
       "      <th>1</th>\n",
       "      <td>B00310</td>\n",
       "      <td>2019-03-06T09:32:18.000</td>\n",
       "      <td>2019-03-06T09:36:39.000</td>\n",
       "      <td>264</td>\n",
       "      <td>265</td>\n",
       "    </tr>\n",
       "    <tr>\n",
       "      <th>2</th>\n",
       "      <td>B00310</td>\n",
       "      <td>2019-03-06T09:45:08.000</td>\n",
       "      <td>2019-03-06T10:08:35.000</td>\n",
       "      <td>264</td>\n",
       "      <td>265</td>\n",
       "    </tr>\n",
       "    <tr>\n",
       "      <th>3</th>\n",
       "      <td>B00310</td>\n",
       "      <td>2019-03-06T09:15:28.000</td>\n",
       "      <td>2019-03-06T09:34:32.000</td>\n",
       "      <td>264</td>\n",
       "      <td>265</td>\n",
       "    </tr>\n",
       "    <tr>\n",
       "      <th>4</th>\n",
       "      <td>B00310</td>\n",
       "      <td>2019-03-06T09:43:28.000</td>\n",
       "      <td>2019-03-06T09:48:26.000</td>\n",
       "      <td>264</td>\n",
       "      <td>265</td>\n",
       "    </tr>\n",
       "  </tbody>\n",
       "</table>\n",
       "</div>"
      ],
      "text/plain": [
       "  dispatching_base_num          pickup_datetime         dropoff_datetime  \\\n",
       "0               B00310  2019-03-06T09:37:12.000  2019-03-06T10:02:37.000   \n",
       "1               B00310  2019-03-06T09:32:18.000  2019-03-06T09:36:39.000   \n",
       "2               B00310  2019-03-06T09:45:08.000  2019-03-06T10:08:35.000   \n",
       "3               B00310  2019-03-06T09:15:28.000  2019-03-06T09:34:32.000   \n",
       "4               B00310  2019-03-06T09:43:28.000  2019-03-06T09:48:26.000   \n",
       "\n",
       "  pulocationid dolocationid  \n",
       "0          264          265  \n",
       "1          264          265  \n",
       "2          264          265  \n",
       "3          264          265  \n",
       "4          264          265  "
      ]
     },
     "execution_count": 7,
     "metadata": {},
     "output_type": "execute_result"
    }
   ],
   "source": [
    "df_fhv.head()"
   ]
  },
  {
   "cell_type": "code",
   "execution_count": 8,
   "id": "celtic-lancaster",
   "metadata": {},
   "outputs": [
    {
     "data": {
      "text/plain": [
       "(3237176, 5)"
      ]
     },
     "execution_count": 8,
     "metadata": {},
     "output_type": "execute_result"
    }
   ],
   "source": [
    "df_fhv.shape"
   ]
  },
  {
   "cell_type": "code",
   "execution_count": 9,
   "id": "owned-imperial",
   "metadata": {},
   "outputs": [],
   "source": [
    "df_fhv.to_csv('raw_fhv_ly.csv')"
   ]
  },
  {
   "cell_type": "markdown",
   "id": "removable-collar",
   "metadata": {},
   "source": [
    "### High-Volume FHV "
   ]
  },
  {
   "cell_type": "markdown",
   "id": "renewable-malta",
   "metadata": {},
   "source": [
    "https://data.cityofnewyork.us/Transportation/2019-High-Volume-FHV-Trip-Records/4p5c-cbgn"
   ]
  },
  {
   "cell_type": "code",
   "execution_count": 10,
   "id": "macro-setup",
   "metadata": {},
   "outputs": [],
   "source": [
    "# base url\n",
    "base_url_hvfhv = 'https://data.cityofnewyork.us/resource/4p5c-cbgn.json'"
   ]
  },
  {
   "cell_type": "code",
   "execution_count": 11,
   "id": "billion-hearing",
   "metadata": {},
   "outputs": [],
   "source": [
    "# filter for March and April\n",
    "soql_filter_hvfhv = '?$where=date_extract_m(pickup_datetime) in (3, 4)'"
   ]
  },
  {
   "cell_type": "code",
   "execution_count": 12,
   "id": "strong-messenger",
   "metadata": {},
   "outputs": [
    {
     "name": "stdout",
     "output_type": "stream",
     "text": [
      "https://data.cityofnewyork.us/resource/4p5c-cbgn.json?$where=date_extract_m(pickup_datetime) in (3, 4)&$limit=100000000\n"
     ]
    }
   ],
   "source": [
    "# combine base url, filter, and limit\n",
    "final_url_hvfhv = base_url_hvfhv + soql_filter_hvfhv + '&' + limit\n",
    "print(final_url_hvfhv)"
   ]
  },
  {
   "cell_type": "code",
   "execution_count": 14,
   "id": "advanced-arrangement",
   "metadata": {},
   "outputs": [],
   "source": [
    "# retrieve the data \n",
    "request_hvfhv = requests.get(url=final_url_hvfhv)\n",
    "df_hvfhv = pd.DataFrame(request_hvfhv.json())"
   ]
  },
  {
   "cell_type": "code",
   "execution_count": 15,
   "id": "lightweight-arbitration",
   "metadata": {},
   "outputs": [
    {
     "data": {
      "text/html": [
       "<div>\n",
       "<style scoped>\n",
       "    .dataframe tbody tr th:only-of-type {\n",
       "        vertical-align: middle;\n",
       "    }\n",
       "\n",
       "    .dataframe tbody tr th {\n",
       "        vertical-align: top;\n",
       "    }\n",
       "\n",
       "    .dataframe thead th {\n",
       "        text-align: right;\n",
       "    }\n",
       "</style>\n",
       "<table border=\"1\" class=\"dataframe\">\n",
       "  <thead>\n",
       "    <tr style=\"text-align: right;\">\n",
       "      <th></th>\n",
       "      <th>hvfhs_license_num</th>\n",
       "      <th>dispatching_base_num</th>\n",
       "      <th>pickup_datetime</th>\n",
       "      <th>dropoff_datetime</th>\n",
       "      <th>pulocationid</th>\n",
       "      <th>dolocationid</th>\n",
       "      <th>sr_flag</th>\n",
       "    </tr>\n",
       "  </thead>\n",
       "  <tbody>\n",
       "    <tr>\n",
       "      <th>0</th>\n",
       "      <td>HV0003</td>\n",
       "      <td>B02889</td>\n",
       "      <td>2019-04-26T19:30:03.000</td>\n",
       "      <td>2019-04-26T19:50:13.000</td>\n",
       "      <td>92</td>\n",
       "      <td>135</td>\n",
       "      <td>1</td>\n",
       "    </tr>\n",
       "    <tr>\n",
       "      <th>1</th>\n",
       "      <td>HV0003</td>\n",
       "      <td>B02889</td>\n",
       "      <td>2019-04-26T19:46:07.000</td>\n",
       "      <td>2019-04-26T20:16:35.000</td>\n",
       "      <td>121</td>\n",
       "      <td>95</td>\n",
       "      <td>1</td>\n",
       "    </tr>\n",
       "    <tr>\n",
       "      <th>2</th>\n",
       "      <td>HV0003</td>\n",
       "      <td>B02875</td>\n",
       "      <td>2019-04-26T19:57:09.000</td>\n",
       "      <td>2019-04-26T20:06:48.000</td>\n",
       "      <td>43</td>\n",
       "      <td>239</td>\n",
       "      <td>NaN</td>\n",
       "    </tr>\n",
       "    <tr>\n",
       "      <th>3</th>\n",
       "      <td>HV0003</td>\n",
       "      <td>B02864</td>\n",
       "      <td>2019-04-26T19:15:26.000</td>\n",
       "      <td>2019-04-26T19:21:47.000</td>\n",
       "      <td>235</td>\n",
       "      <td>94</td>\n",
       "      <td>NaN</td>\n",
       "    </tr>\n",
       "    <tr>\n",
       "      <th>4</th>\n",
       "      <td>HV0003</td>\n",
       "      <td>B02864</td>\n",
       "      <td>2019-04-26T19:34:21.000</td>\n",
       "      <td>2019-04-26T19:49:33.000</td>\n",
       "      <td>235</td>\n",
       "      <td>18</td>\n",
       "      <td>NaN</td>\n",
       "    </tr>\n",
       "  </tbody>\n",
       "</table>\n",
       "</div>"
      ],
      "text/plain": [
       "  hvfhs_license_num dispatching_base_num          pickup_datetime  \\\n",
       "0            HV0003               B02889  2019-04-26T19:30:03.000   \n",
       "1            HV0003               B02889  2019-04-26T19:46:07.000   \n",
       "2            HV0003               B02875  2019-04-26T19:57:09.000   \n",
       "3            HV0003               B02864  2019-04-26T19:15:26.000   \n",
       "4            HV0003               B02864  2019-04-26T19:34:21.000   \n",
       "\n",
       "          dropoff_datetime pulocationid dolocationid sr_flag  \n",
       "0  2019-04-26T19:50:13.000           92          135       1  \n",
       "1  2019-04-26T20:16:35.000          121           95       1  \n",
       "2  2019-04-26T20:06:48.000           43          239     NaN  \n",
       "3  2019-04-26T19:21:47.000          235           94     NaN  \n",
       "4  2019-04-26T19:49:33.000          235           18     NaN  "
      ]
     },
     "execution_count": 15,
     "metadata": {},
     "output_type": "execute_result"
    }
   ],
   "source": [
    "df_hvfhv.head()"
   ]
  },
  {
   "cell_type": "code",
   "execution_count": 16,
   "id": "thermal-twist",
   "metadata": {},
   "outputs": [
    {
     "data": {
      "text/plain": [
       "(45599365, 7)"
      ]
     },
     "execution_count": 16,
     "metadata": {},
     "output_type": "execute_result"
    }
   ],
   "source": [
    "df_hvfhv.shape"
   ]
  },
  {
   "cell_type": "code",
   "execution_count": 17,
   "id": "patient-history",
   "metadata": {},
   "outputs": [],
   "source": [
    "df_hvfhv.to_csv('raw_hvfhv_ly.csv')"
   ]
  },
  {
   "cell_type": "markdown",
   "id": "transsexual-being",
   "metadata": {},
   "source": [
    "### Data Cleaning"
   ]
  },
  {
   "cell_type": "markdown",
   "id": "found-supplement",
   "metadata": {},
   "source": [
    "#### hvhfs_license_num (High-Volume FHV)"
   ]
  },
  {
   "cell_type": "markdown",
   "id": "worthy-persian",
   "metadata": {},
   "source": [
    "The TLC License number of the HVFHS base or business \n",
    "- HV0002: Juno\n",
    "- HV0003: Uber\n",
    "- HV0004: Via\n",
    "- HV0005:Lyft"
   ]
  },
  {
   "cell_type": "code",
   "execution_count": 18,
   "id": "hairy-bulgarian",
   "metadata": {},
   "outputs": [
    {
     "data": {
      "text/plain": [
       "array(['HV0004', 'HV0005', 'HV0003', 'HV0002'], dtype=object)"
      ]
     },
     "execution_count": 18,
     "metadata": {},
     "output_type": "execute_result"
    }
   ],
   "source": [
    "df_hvfhv['hvfhs_license_num'].unique()"
   ]
  },
  {
   "cell_type": "code",
   "execution_count": 19,
   "id": "frank-thirty",
   "metadata": {},
   "outputs": [
    {
     "data": {
      "text/html": [
       "<div>\n",
       "<style scoped>\n",
       "    .dataframe tbody tr th:only-of-type {\n",
       "        vertical-align: middle;\n",
       "    }\n",
       "\n",
       "    .dataframe tbody tr th {\n",
       "        vertical-align: top;\n",
       "    }\n",
       "\n",
       "    .dataframe thead th {\n",
       "        text-align: right;\n",
       "    }\n",
       "</style>\n",
       "<table border=\"1\" class=\"dataframe\">\n",
       "  <thead>\n",
       "    <tr style=\"text-align: right;\">\n",
       "      <th></th>\n",
       "      <th>hvfhs_license_num</th>\n",
       "    </tr>\n",
       "    <tr>\n",
       "      <th>hvfhs_license_num</th>\n",
       "      <th></th>\n",
       "    </tr>\n",
       "  </thead>\n",
       "  <tbody>\n",
       "    <tr>\n",
       "      <th>HV0002</th>\n",
       "      <td>1575747</td>\n",
       "    </tr>\n",
       "    <tr>\n",
       "      <th>HV0003</th>\n",
       "      <td>32905739</td>\n",
       "    </tr>\n",
       "    <tr>\n",
       "      <th>HV0004</th>\n",
       "      <td>2128145</td>\n",
       "    </tr>\n",
       "    <tr>\n",
       "      <th>HV0005</th>\n",
       "      <td>8989734</td>\n",
       "    </tr>\n",
       "  </tbody>\n",
       "</table>\n",
       "</div>"
      ],
      "text/plain": [
       "                   hvfhs_license_num\n",
       "hvfhs_license_num                   \n",
       "HV0002                       1575747\n",
       "HV0003                      32905739\n",
       "HV0004                       2128145\n",
       "HV0005                       8989734"
      ]
     },
     "execution_count": 19,
     "metadata": {},
     "output_type": "execute_result"
    }
   ],
   "source": [
    "df_hvfhv.groupby(['hvfhs_license_num']).agg({'hvfhs_license_num': 'count'})"
   ]
  },
  {
   "cell_type": "markdown",
   "id": "continued-component",
   "metadata": {},
   "source": [
    "#### sr_flag (High-Volume FHV)"
   ]
  },
  {
   "cell_type": "markdown",
   "id": "public-therapist",
   "metadata": {},
   "source": [
    "Indicates if the trip was a part of a shared ride chain offered by a High Volume FHV company (e.g. Uber Pool, Lyft Line). For shared trips, the value is 1. For non-shared rides, this field is null."
   ]
  },
  {
   "cell_type": "markdown",
   "id": "intense-frank",
   "metadata": {},
   "source": [
    "NOTE: For most High Volume FHV companies, only shared rides that were requested AND matched to another shared-ride request over the course of the journey are flagged. However, Lyft (hvfhs_license_num=’HV0005’) also flags rides for which a shared ride was requested but another passenger was not successfully matched to share the trip—therefore, trips records with SR_Flag=1 from those two bases could indicate EITHER a trip in a shared trip chain OR a trip for which a shared ride was requested but never matched. Users should anticipate an overcount of successfully shared trips completed by Lyft. \n",
    "\n",
    "Note also that Juno does not offer shared trips"
   ]
  },
  {
   "cell_type": "code",
   "execution_count": 20,
   "id": "chubby-clerk",
   "metadata": {},
   "outputs": [
    {
     "data": {
      "text/plain": [
       "array(['1', nan], dtype=object)"
      ]
     },
     "execution_count": 20,
     "metadata": {},
     "output_type": "execute_result"
    }
   ],
   "source": [
    "df_hvfhv['sr_flag'].unique()"
   ]
  },
  {
   "cell_type": "code",
   "execution_count": 21,
   "id": "strong-pierce",
   "metadata": {},
   "outputs": [
    {
     "data": {
      "text/html": [
       "<div>\n",
       "<style scoped>\n",
       "    .dataframe tbody tr th:only-of-type {\n",
       "        vertical-align: middle;\n",
       "    }\n",
       "\n",
       "    .dataframe tbody tr th {\n",
       "        vertical-align: top;\n",
       "    }\n",
       "\n",
       "    .dataframe thead th {\n",
       "        text-align: right;\n",
       "    }\n",
       "</style>\n",
       "<table border=\"1\" class=\"dataframe\">\n",
       "  <thead>\n",
       "    <tr style=\"text-align: right;\">\n",
       "      <th></th>\n",
       "      <th>sr_flag</th>\n",
       "    </tr>\n",
       "    <tr>\n",
       "      <th>sr_flag</th>\n",
       "      <th></th>\n",
       "    </tr>\n",
       "  </thead>\n",
       "  <tbody>\n",
       "    <tr>\n",
       "      <th>1</th>\n",
       "      <td>9140841</td>\n",
       "    </tr>\n",
       "  </tbody>\n",
       "</table>\n",
       "</div>"
      ],
      "text/plain": [
       "         sr_flag\n",
       "sr_flag         \n",
       "1        9140841"
      ]
     },
     "execution_count": 21,
     "metadata": {},
     "output_type": "execute_result"
    }
   ],
   "source": [
    "df_hvfhv.groupby(['sr_flag']).agg({'sr_flag': 'count'})"
   ]
  },
  {
   "cell_type": "markdown",
   "id": "collective-request",
   "metadata": {},
   "source": [
    "#### Merge"
   ]
  },
  {
   "cell_type": "code",
   "execution_count": 22,
   "id": "close-starter",
   "metadata": {},
   "outputs": [],
   "source": [
    "# define function to look up company name\n",
    "def company(x):\n",
    "    if x == 'HV0002':\n",
    "        return 'Juno'\n",
    "    elif x == 'HV0003':\n",
    "        return 'Uber'\n",
    "    elif x == 'HV0004':\n",
    "        return 'Via'\n",
    "    elif x == 'HV0005':\n",
    "        return 'Lyft'\n",
    "    else:\n",
    "        return null"
   ]
  },
  {
   "cell_type": "code",
   "execution_count": 23,
   "id": "elementary-listening",
   "metadata": {},
   "outputs": [],
   "source": [
    "# add fhv type\n",
    "df_fhv['type'] = 'fhv'\n",
    "df_hvfhv['type'] = df_hvfhv['hvfhs_license_num'].apply(company)"
   ]
  },
  {
   "cell_type": "code",
   "execution_count": 24,
   "id": "sustainable-stroke",
   "metadata": {},
   "outputs": [
    {
     "data": {
      "text/html": [
       "<div>\n",
       "<style scoped>\n",
       "    .dataframe tbody tr th:only-of-type {\n",
       "        vertical-align: middle;\n",
       "    }\n",
       "\n",
       "    .dataframe tbody tr th {\n",
       "        vertical-align: top;\n",
       "    }\n",
       "\n",
       "    .dataframe thead th {\n",
       "        text-align: right;\n",
       "    }\n",
       "</style>\n",
       "<table border=\"1\" class=\"dataframe\">\n",
       "  <thead>\n",
       "    <tr style=\"text-align: right;\">\n",
       "      <th></th>\n",
       "      <th>pickup_datetime</th>\n",
       "      <th>dropoff_datetime</th>\n",
       "      <th>pulocationid</th>\n",
       "      <th>dolocationid</th>\n",
       "      <th>type</th>\n",
       "    </tr>\n",
       "  </thead>\n",
       "  <tbody>\n",
       "    <tr>\n",
       "      <th>0</th>\n",
       "      <td>2019-03-06T09:37:12.000</td>\n",
       "      <td>2019-03-06T10:02:37.000</td>\n",
       "      <td>264</td>\n",
       "      <td>265</td>\n",
       "      <td>fhv</td>\n",
       "    </tr>\n",
       "    <tr>\n",
       "      <th>1</th>\n",
       "      <td>2019-03-06T09:32:18.000</td>\n",
       "      <td>2019-03-06T09:36:39.000</td>\n",
       "      <td>264</td>\n",
       "      <td>265</td>\n",
       "      <td>fhv</td>\n",
       "    </tr>\n",
       "    <tr>\n",
       "      <th>2</th>\n",
       "      <td>2019-03-06T09:45:08.000</td>\n",
       "      <td>2019-03-06T10:08:35.000</td>\n",
       "      <td>264</td>\n",
       "      <td>265</td>\n",
       "      <td>fhv</td>\n",
       "    </tr>\n",
       "    <tr>\n",
       "      <th>3</th>\n",
       "      <td>2019-03-06T09:15:28.000</td>\n",
       "      <td>2019-03-06T09:34:32.000</td>\n",
       "      <td>264</td>\n",
       "      <td>265</td>\n",
       "      <td>fhv</td>\n",
       "    </tr>\n",
       "    <tr>\n",
       "      <th>4</th>\n",
       "      <td>2019-03-06T09:43:28.000</td>\n",
       "      <td>2019-03-06T09:48:26.000</td>\n",
       "      <td>264</td>\n",
       "      <td>265</td>\n",
       "      <td>fhv</td>\n",
       "    </tr>\n",
       "  </tbody>\n",
       "</table>\n",
       "</div>"
      ],
      "text/plain": [
       "           pickup_datetime         dropoff_datetime pulocationid dolocationid  \\\n",
       "0  2019-03-06T09:37:12.000  2019-03-06T10:02:37.000          264          265   \n",
       "1  2019-03-06T09:32:18.000  2019-03-06T09:36:39.000          264          265   \n",
       "2  2019-03-06T09:45:08.000  2019-03-06T10:08:35.000          264          265   \n",
       "3  2019-03-06T09:15:28.000  2019-03-06T09:34:32.000          264          265   \n",
       "4  2019-03-06T09:43:28.000  2019-03-06T09:48:26.000          264          265   \n",
       "\n",
       "  type  \n",
       "0  fhv  \n",
       "1  fhv  \n",
       "2  fhv  \n",
       "3  fhv  \n",
       "4  fhv  "
      ]
     },
     "execution_count": 24,
     "metadata": {},
     "output_type": "execute_result"
    }
   ],
   "source": [
    "df_fhv_base = df_fhv[['pickup_datetime', 'dropoff_datetime', 'pulocationid', 'dolocationid', 'type']]\n",
    "df_fhv_base.head()"
   ]
  },
  {
   "cell_type": "code",
   "execution_count": 25,
   "id": "exciting-coalition",
   "metadata": {},
   "outputs": [
    {
     "data": {
      "text/html": [
       "<div>\n",
       "<style scoped>\n",
       "    .dataframe tbody tr th:only-of-type {\n",
       "        vertical-align: middle;\n",
       "    }\n",
       "\n",
       "    .dataframe tbody tr th {\n",
       "        vertical-align: top;\n",
       "    }\n",
       "\n",
       "    .dataframe thead th {\n",
       "        text-align: right;\n",
       "    }\n",
       "</style>\n",
       "<table border=\"1\" class=\"dataframe\">\n",
       "  <thead>\n",
       "    <tr style=\"text-align: right;\">\n",
       "      <th></th>\n",
       "      <th>pickup_datetime</th>\n",
       "      <th>dropoff_datetime</th>\n",
       "      <th>pulocationid</th>\n",
       "      <th>dolocationid</th>\n",
       "      <th>type</th>\n",
       "    </tr>\n",
       "  </thead>\n",
       "  <tbody>\n",
       "    <tr>\n",
       "      <th>0</th>\n",
       "      <td>2019-03-01T00:13:55.000</td>\n",
       "      <td>2019-03-01T00:28:51.000</td>\n",
       "      <td>36</td>\n",
       "      <td>80</td>\n",
       "      <td>Via</td>\n",
       "    </tr>\n",
       "    <tr>\n",
       "      <th>1</th>\n",
       "      <td>2019-03-01T00:23:58.000</td>\n",
       "      <td>2019-03-01T00:43:03.000</td>\n",
       "      <td>37</td>\n",
       "      <td>232</td>\n",
       "      <td>Via</td>\n",
       "    </tr>\n",
       "    <tr>\n",
       "      <th>2</th>\n",
       "      <td>2019-03-01T00:03:37.000</td>\n",
       "      <td>2019-03-01T00:15:09.000</td>\n",
       "      <td>25</td>\n",
       "      <td>62</td>\n",
       "      <td>Lyft</td>\n",
       "    </tr>\n",
       "    <tr>\n",
       "      <th>3</th>\n",
       "      <td>2019-03-01T00:29:46.000</td>\n",
       "      <td>2019-03-01T00:50:43.000</td>\n",
       "      <td>65</td>\n",
       "      <td>262</td>\n",
       "      <td>Uber</td>\n",
       "    </tr>\n",
       "    <tr>\n",
       "      <th>4</th>\n",
       "      <td>2019-03-01T00:58:56.000</td>\n",
       "      <td>2019-03-01T01:20:47.000</td>\n",
       "      <td>140</td>\n",
       "      <td>196</td>\n",
       "      <td>Uber</td>\n",
       "    </tr>\n",
       "  </tbody>\n",
       "</table>\n",
       "</div>"
      ],
      "text/plain": [
       "           pickup_datetime         dropoff_datetime pulocationid dolocationid  \\\n",
       "0  2019-03-01T00:13:55.000  2019-03-01T00:28:51.000           36           80   \n",
       "1  2019-03-01T00:23:58.000  2019-03-01T00:43:03.000           37          232   \n",
       "2  2019-03-01T00:03:37.000  2019-03-01T00:15:09.000           25           62   \n",
       "3  2019-03-01T00:29:46.000  2019-03-01T00:50:43.000           65          262   \n",
       "4  2019-03-01T00:58:56.000  2019-03-01T01:20:47.000          140          196   \n",
       "\n",
       "   type  \n",
       "0   Via  \n",
       "1   Via  \n",
       "2  Lyft  \n",
       "3  Uber  \n",
       "4  Uber  "
      ]
     },
     "execution_count": 25,
     "metadata": {},
     "output_type": "execute_result"
    }
   ],
   "source": [
    "df_hvfhv_base = df_hvfhv[['pickup_datetime', 'dropoff_datetime', 'pulocationid', 'dolocationid', 'type']]\n",
    "df_hvfhv_base.head()"
   ]
  },
  {
   "cell_type": "code",
   "execution_count": 26,
   "id": "generic-belarus",
   "metadata": {},
   "outputs": [
    {
     "data": {
      "text/html": [
       "<div>\n",
       "<style scoped>\n",
       "    .dataframe tbody tr th:only-of-type {\n",
       "        vertical-align: middle;\n",
       "    }\n",
       "\n",
       "    .dataframe tbody tr th {\n",
       "        vertical-align: top;\n",
       "    }\n",
       "\n",
       "    .dataframe thead th {\n",
       "        text-align: right;\n",
       "    }\n",
       "</style>\n",
       "<table border=\"1\" class=\"dataframe\">\n",
       "  <thead>\n",
       "    <tr style=\"text-align: right;\">\n",
       "      <th></th>\n",
       "      <th>pickup_datetime</th>\n",
       "      <th>dropoff_datetime</th>\n",
       "      <th>pulocationid</th>\n",
       "      <th>dolocationid</th>\n",
       "      <th>type</th>\n",
       "    </tr>\n",
       "  </thead>\n",
       "  <tbody>\n",
       "    <tr>\n",
       "      <th>0</th>\n",
       "      <td>2019-03-06T09:37:12.000</td>\n",
       "      <td>2019-03-06T10:02:37.000</td>\n",
       "      <td>264</td>\n",
       "      <td>265</td>\n",
       "      <td>fhv</td>\n",
       "    </tr>\n",
       "    <tr>\n",
       "      <th>1</th>\n",
       "      <td>2019-03-06T09:32:18.000</td>\n",
       "      <td>2019-03-06T09:36:39.000</td>\n",
       "      <td>264</td>\n",
       "      <td>265</td>\n",
       "      <td>fhv</td>\n",
       "    </tr>\n",
       "    <tr>\n",
       "      <th>2</th>\n",
       "      <td>2019-03-06T09:45:08.000</td>\n",
       "      <td>2019-03-06T10:08:35.000</td>\n",
       "      <td>264</td>\n",
       "      <td>265</td>\n",
       "      <td>fhv</td>\n",
       "    </tr>\n",
       "    <tr>\n",
       "      <th>3</th>\n",
       "      <td>2019-03-06T09:15:28.000</td>\n",
       "      <td>2019-03-06T09:34:32.000</td>\n",
       "      <td>264</td>\n",
       "      <td>265</td>\n",
       "      <td>fhv</td>\n",
       "    </tr>\n",
       "    <tr>\n",
       "      <th>4</th>\n",
       "      <td>2019-03-06T09:43:28.000</td>\n",
       "      <td>2019-03-06T09:48:26.000</td>\n",
       "      <td>264</td>\n",
       "      <td>265</td>\n",
       "      <td>fhv</td>\n",
       "    </tr>\n",
       "  </tbody>\n",
       "</table>\n",
       "</div>"
      ],
      "text/plain": [
       "           pickup_datetime         dropoff_datetime pulocationid dolocationid  \\\n",
       "0  2019-03-06T09:37:12.000  2019-03-06T10:02:37.000          264          265   \n",
       "1  2019-03-06T09:32:18.000  2019-03-06T09:36:39.000          264          265   \n",
       "2  2019-03-06T09:45:08.000  2019-03-06T10:08:35.000          264          265   \n",
       "3  2019-03-06T09:15:28.000  2019-03-06T09:34:32.000          264          265   \n",
       "4  2019-03-06T09:43:28.000  2019-03-06T09:48:26.000          264          265   \n",
       "\n",
       "  type  \n",
       "0  fhv  \n",
       "1  fhv  \n",
       "2  fhv  \n",
       "3  fhv  \n",
       "4  fhv  "
      ]
     },
     "execution_count": 26,
     "metadata": {},
     "output_type": "execute_result"
    }
   ],
   "source": [
    "df_fhvall = pd.concat([df_fhv_base, df_hvfhv_base], axis=0)\n",
    "df_fhvall.head()"
   ]
  },
  {
   "cell_type": "code",
   "execution_count": 27,
   "id": "piano-explorer",
   "metadata": {},
   "outputs": [
    {
     "data": {
      "text/plain": [
       "(48836541, 5)"
      ]
     },
     "execution_count": 27,
     "metadata": {},
     "output_type": "execute_result"
    }
   ],
   "source": [
    "df_fhvall.shape"
   ]
  },
  {
   "cell_type": "code",
   "execution_count": 29,
   "id": "careful-generic",
   "metadata": {},
   "outputs": [],
   "source": [
    "# avoid OutOfBoundsDatetime error\n",
    "df_fhvall['pickup_datetime'] = pd.to_datetime(df_fhvall['pickup_datetime'], errors='coerce')\n",
    "df_fhvall['dropoff_datettime'] = pd.to_datetime(df_fhvall['dropoff_datetime'], errors='coerce')"
   ]
  },
  {
   "cell_type": "code",
   "execution_count": 30,
   "id": "closed-petroleum",
   "metadata": {},
   "outputs": [],
   "source": [
    "df_fhvall['pu_year'] = df_fhvall['pickup_datetime'].dt.year\n",
    "df_fhvall['pu_month'] = df_fhvall['pickup_datetime'].dt.month\n",
    "df_fhvall['pu_day'] = df_fhvall['pickup_datetime'].dt.day\n",
    "df_fhvall['pu_hour'] = df_fhvall['pickup_datetime'].dt.hour"
   ]
  },
  {
   "cell_type": "code",
   "execution_count": 32,
   "id": "editorial-coalition",
   "metadata": {},
   "outputs": [],
   "source": [
    "df_fhvall = df_fhvall[df_fhvall['pu_year'] == 2019] # remove error records"
   ]
  },
  {
   "cell_type": "code",
   "execution_count": 33,
   "id": "beautiful-realtor",
   "metadata": {},
   "outputs": [
    {
     "data": {
      "text/html": [
       "<div>\n",
       "<style scoped>\n",
       "    .dataframe tbody tr th:only-of-type {\n",
       "        vertical-align: middle;\n",
       "    }\n",
       "\n",
       "    .dataframe tbody tr th {\n",
       "        vertical-align: top;\n",
       "    }\n",
       "\n",
       "    .dataframe thead th {\n",
       "        text-align: right;\n",
       "    }\n",
       "</style>\n",
       "<table border=\"1\" class=\"dataframe\">\n",
       "  <thead>\n",
       "    <tr style=\"text-align: right;\">\n",
       "      <th></th>\n",
       "      <th>pickup_datetime</th>\n",
       "      <th>dropoff_datetime</th>\n",
       "      <th>pulocationid</th>\n",
       "      <th>dolocationid</th>\n",
       "      <th>type</th>\n",
       "      <th>dropoff_datettime</th>\n",
       "      <th>pu_year</th>\n",
       "      <th>pu_month</th>\n",
       "      <th>pu_day</th>\n",
       "      <th>pu_hour</th>\n",
       "    </tr>\n",
       "  </thead>\n",
       "  <tbody>\n",
       "    <tr>\n",
       "      <th>0</th>\n",
       "      <td>2019-03-06 09:37:12</td>\n",
       "      <td>2019-03-06T10:02:37.000</td>\n",
       "      <td>264</td>\n",
       "      <td>265</td>\n",
       "      <td>fhv</td>\n",
       "      <td>2019-03-06 10:02:37</td>\n",
       "      <td>2019</td>\n",
       "      <td>3</td>\n",
       "      <td>6</td>\n",
       "      <td>9</td>\n",
       "    </tr>\n",
       "    <tr>\n",
       "      <th>1</th>\n",
       "      <td>2019-03-06 09:32:18</td>\n",
       "      <td>2019-03-06T09:36:39.000</td>\n",
       "      <td>264</td>\n",
       "      <td>265</td>\n",
       "      <td>fhv</td>\n",
       "      <td>2019-03-06 09:36:39</td>\n",
       "      <td>2019</td>\n",
       "      <td>3</td>\n",
       "      <td>6</td>\n",
       "      <td>9</td>\n",
       "    </tr>\n",
       "    <tr>\n",
       "      <th>2</th>\n",
       "      <td>2019-03-06 09:45:08</td>\n",
       "      <td>2019-03-06T10:08:35.000</td>\n",
       "      <td>264</td>\n",
       "      <td>265</td>\n",
       "      <td>fhv</td>\n",
       "      <td>2019-03-06 10:08:35</td>\n",
       "      <td>2019</td>\n",
       "      <td>3</td>\n",
       "      <td>6</td>\n",
       "      <td>9</td>\n",
       "    </tr>\n",
       "    <tr>\n",
       "      <th>3</th>\n",
       "      <td>2019-03-06 09:15:28</td>\n",
       "      <td>2019-03-06T09:34:32.000</td>\n",
       "      <td>264</td>\n",
       "      <td>265</td>\n",
       "      <td>fhv</td>\n",
       "      <td>2019-03-06 09:34:32</td>\n",
       "      <td>2019</td>\n",
       "      <td>3</td>\n",
       "      <td>6</td>\n",
       "      <td>9</td>\n",
       "    </tr>\n",
       "    <tr>\n",
       "      <th>4</th>\n",
       "      <td>2019-03-06 09:43:28</td>\n",
       "      <td>2019-03-06T09:48:26.000</td>\n",
       "      <td>264</td>\n",
       "      <td>265</td>\n",
       "      <td>fhv</td>\n",
       "      <td>2019-03-06 09:48:26</td>\n",
       "      <td>2019</td>\n",
       "      <td>3</td>\n",
       "      <td>6</td>\n",
       "      <td>9</td>\n",
       "    </tr>\n",
       "  </tbody>\n",
       "</table>\n",
       "</div>"
      ],
      "text/plain": [
       "      pickup_datetime         dropoff_datetime pulocationid dolocationid type  \\\n",
       "0 2019-03-06 09:37:12  2019-03-06T10:02:37.000          264          265  fhv   \n",
       "1 2019-03-06 09:32:18  2019-03-06T09:36:39.000          264          265  fhv   \n",
       "2 2019-03-06 09:45:08  2019-03-06T10:08:35.000          264          265  fhv   \n",
       "3 2019-03-06 09:15:28  2019-03-06T09:34:32.000          264          265  fhv   \n",
       "4 2019-03-06 09:43:28  2019-03-06T09:48:26.000          264          265  fhv   \n",
       "\n",
       "    dropoff_datettime  pu_year  pu_month  pu_day  pu_hour  \n",
       "0 2019-03-06 10:02:37     2019         3       6        9  \n",
       "1 2019-03-06 09:36:39     2019         3       6        9  \n",
       "2 2019-03-06 10:08:35     2019         3       6        9  \n",
       "3 2019-03-06 09:34:32     2019         3       6        9  \n",
       "4 2019-03-06 09:48:26     2019         3       6        9  "
      ]
     },
     "execution_count": 33,
     "metadata": {},
     "output_type": "execute_result"
    }
   ],
   "source": [
    "df_fhvall.head()"
   ]
  },
  {
   "cell_type": "markdown",
   "id": "administrative-armenia",
   "metadata": {},
   "source": [
    "### Trip Count"
   ]
  },
  {
   "cell_type": "code",
   "execution_count": 34,
   "id": "joined-receiver",
   "metadata": {},
   "outputs": [
    {
     "data": {
      "text/html": [
       "<div>\n",
       "<style scoped>\n",
       "    .dataframe tbody tr th:only-of-type {\n",
       "        vertical-align: middle;\n",
       "    }\n",
       "\n",
       "    .dataframe tbody tr th {\n",
       "        vertical-align: top;\n",
       "    }\n",
       "\n",
       "    .dataframe thead th {\n",
       "        text-align: right;\n",
       "    }\n",
       "</style>\n",
       "<table border=\"1\" class=\"dataframe\">\n",
       "  <thead>\n",
       "    <tr style=\"text-align: right;\">\n",
       "      <th></th>\n",
       "      <th></th>\n",
       "      <th></th>\n",
       "      <th></th>\n",
       "      <th></th>\n",
       "      <th>trips</th>\n",
       "    </tr>\n",
       "    <tr>\n",
       "      <th>type</th>\n",
       "      <th>pu_month</th>\n",
       "      <th>pu_day</th>\n",
       "      <th>pu_hour</th>\n",
       "      <th>pulocationid</th>\n",
       "      <th></th>\n",
       "    </tr>\n",
       "  </thead>\n",
       "  <tbody>\n",
       "    <tr>\n",
       "      <th rowspan=\"5\" valign=\"top\">Juno</th>\n",
       "      <th rowspan=\"5\" valign=\"top\">3</th>\n",
       "      <th rowspan=\"5\" valign=\"top\">1</th>\n",
       "      <th rowspan=\"5\" valign=\"top\">0</th>\n",
       "      <th>10</th>\n",
       "      <td>5</td>\n",
       "    </tr>\n",
       "    <tr>\n",
       "      <th>100</th>\n",
       "      <td>8</td>\n",
       "    </tr>\n",
       "    <tr>\n",
       "      <th>102</th>\n",
       "      <td>2</td>\n",
       "    </tr>\n",
       "    <tr>\n",
       "      <th>106</th>\n",
       "      <td>4</td>\n",
       "    </tr>\n",
       "    <tr>\n",
       "      <th>107</th>\n",
       "      <td>11</td>\n",
       "    </tr>\n",
       "  </tbody>\n",
       "</table>\n",
       "</div>"
      ],
      "text/plain": [
       "                                           trips\n",
       "type pu_month pu_day pu_hour pulocationid       \n",
       "Juno 3        1      0       10                5\n",
       "                             100               8\n",
       "                             102               2\n",
       "                             106               4\n",
       "                             107              11"
      ]
     },
     "execution_count": 34,
     "metadata": {},
     "output_type": "execute_result"
    }
   ],
   "source": [
    "df_agg_pu = df_fhvall.groupby(['type', 'pu_month', 'pu_day', 'pu_hour', 'pulocationid']).agg({'pickup_datetime': 'count'}).rename(columns={'pickup_datetime': 'trips'})\n",
    "df_agg_pu.head()"
   ]
  },
  {
   "cell_type": "code",
   "execution_count": 35,
   "id": "resident-determination",
   "metadata": {},
   "outputs": [
    {
     "data": {
      "text/html": [
       "<div>\n",
       "<style scoped>\n",
       "    .dataframe tbody tr th:only-of-type {\n",
       "        vertical-align: middle;\n",
       "    }\n",
       "\n",
       "    .dataframe tbody tr th {\n",
       "        vertical-align: top;\n",
       "    }\n",
       "\n",
       "    .dataframe thead th {\n",
       "        text-align: right;\n",
       "    }\n",
       "</style>\n",
       "<table border=\"1\" class=\"dataframe\">\n",
       "  <thead>\n",
       "    <tr style=\"text-align: right;\">\n",
       "      <th></th>\n",
       "      <th></th>\n",
       "      <th></th>\n",
       "      <th></th>\n",
       "      <th></th>\n",
       "      <th>trips</th>\n",
       "    </tr>\n",
       "    <tr>\n",
       "      <th>type</th>\n",
       "      <th>pu_month</th>\n",
       "      <th>pu_day</th>\n",
       "      <th>pu_hour</th>\n",
       "      <th>dolocationid</th>\n",
       "      <th></th>\n",
       "    </tr>\n",
       "  </thead>\n",
       "  <tbody>\n",
       "    <tr>\n",
       "      <th rowspan=\"5\" valign=\"top\">Juno</th>\n",
       "      <th rowspan=\"5\" valign=\"top\">3</th>\n",
       "      <th rowspan=\"5\" valign=\"top\">1</th>\n",
       "      <th rowspan=\"5\" valign=\"top\">0</th>\n",
       "      <th>10</th>\n",
       "      <td>3</td>\n",
       "    </tr>\n",
       "    <tr>\n",
       "      <th>101</th>\n",
       "      <td>1</td>\n",
       "    </tr>\n",
       "    <tr>\n",
       "      <th>102</th>\n",
       "      <td>4</td>\n",
       "    </tr>\n",
       "    <tr>\n",
       "      <th>107</th>\n",
       "      <td>7</td>\n",
       "    </tr>\n",
       "    <tr>\n",
       "      <th>108</th>\n",
       "      <td>1</td>\n",
       "    </tr>\n",
       "  </tbody>\n",
       "</table>\n",
       "</div>"
      ],
      "text/plain": [
       "                                           trips\n",
       "type pu_month pu_day pu_hour dolocationid       \n",
       "Juno 3        1      0       10                3\n",
       "                             101               1\n",
       "                             102               4\n",
       "                             107               7\n",
       "                             108               1"
      ]
     },
     "execution_count": 35,
     "metadata": {},
     "output_type": "execute_result"
    }
   ],
   "source": [
    "df_agg_do = df_fhvall.groupby(['type', 'pu_month', 'pu_day', 'pu_hour', 'dolocationid']).agg({'dropoff_datetime': 'count'}).rename(columns={'dropoff_datetime': 'trips'})\n",
    "df_agg_do.head()"
   ]
  },
  {
   "cell_type": "code",
   "execution_count": 36,
   "id": "banned-feelings",
   "metadata": {},
   "outputs": [
    {
     "data": {
      "text/plain": [
       "(1288191, 1)"
      ]
     },
     "execution_count": 36,
     "metadata": {},
     "output_type": "execute_result"
    }
   ],
   "source": [
    "df_agg_pu.shape"
   ]
  },
  {
   "cell_type": "code",
   "execution_count": 37,
   "id": "moving-cooperation",
   "metadata": {},
   "outputs": [
    {
     "data": {
      "text/plain": [
       "(1311920, 1)"
      ]
     },
     "execution_count": 37,
     "metadata": {},
     "output_type": "execute_result"
    }
   ],
   "source": [
    "df_agg_do.shape"
   ]
  },
  {
   "cell_type": "code",
   "execution_count": 38,
   "id": "instructional-vertex",
   "metadata": {},
   "outputs": [],
   "source": [
    "df_agg_pu.to_csv('fhv_pickup_ly.csv')"
   ]
  },
  {
   "cell_type": "code",
   "execution_count": 39,
   "id": "grateful-street",
   "metadata": {},
   "outputs": [],
   "source": [
    "df_agg_do.to_csv('fhv_dropoff_ly.csv')"
   ]
  },
  {
   "cell_type": "code",
   "execution_count": null,
   "id": "champion-manufacturer",
   "metadata": {},
   "outputs": [],
   "source": []
  }
 ],
 "metadata": {
  "kernelspec": {
   "display_name": "Python 3",
   "language": "python",
   "name": "python3"
  },
  "language_info": {
   "codemirror_mode": {
    "name": "ipython",
    "version": 3
   },
   "file_extension": ".py",
   "mimetype": "text/x-python",
   "name": "python",
   "nbconvert_exporter": "python",
   "pygments_lexer": "ipython3",
   "version": "3.9.1"
  }
 },
 "nbformat": 4,
 "nbformat_minor": 5
}
