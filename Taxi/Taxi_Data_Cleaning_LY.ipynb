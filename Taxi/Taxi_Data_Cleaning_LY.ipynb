{
 "cells": [
  {
   "cell_type": "code",
   "execution_count": 1,
   "id": "dense-invasion",
   "metadata": {},
   "outputs": [],
   "source": [
    "import pandas as pd\n",
    "import requests"
   ]
  },
  {
   "cell_type": "code",
   "execution_count": 2,
   "id": "breathing-frame",
   "metadata": {},
   "outputs": [],
   "source": [
    "# API: default is 1000\n",
    "limit = '$limit=100000000'"
   ]
  },
  {
   "cell_type": "markdown",
   "id": "timely-politics",
   "metadata": {},
   "source": [
    "### Yellow Taxi"
   ]
  },
  {
   "cell_type": "markdown",
   "id": "established-commons",
   "metadata": {},
   "source": [
    "https://data.cityofnewyork.us/Transportation/2019-Yellow-Taxi-Trip-Data/2upf-qytp"
   ]
  },
  {
   "cell_type": "code",
   "execution_count": 3,
   "id": "front-brand",
   "metadata": {},
   "outputs": [],
   "source": [
    "# base url\n",
    "base_url_yellow = 'https://data.cityofnewyork.us/resource/2upf-qytp.json'"
   ]
  },
  {
   "cell_type": "code",
   "execution_count": 4,
   "id": "foster-attribute",
   "metadata": {},
   "outputs": [],
   "source": [
    "# filter for March and April\n",
    "soql_filter_yellow = '?$where=date_extract_m(tpep_pickup_datetime) in (3, 4)'"
   ]
  },
  {
   "cell_type": "code",
   "execution_count": 5,
   "id": "blessed-possibility",
   "metadata": {},
   "outputs": [
    {
     "name": "stdout",
     "output_type": "stream",
     "text": [
      "https://data.cityofnewyork.us/resource/2upf-qytp.json?$where=date_extract_m(tpep_pickup_datetime) in (3, 4)&$limit=100000000\n"
     ]
    }
   ],
   "source": [
    "# combine base url, filter, and limit\n",
    "final_url_yellow = base_url_yellow + soql_filter_yellow + '&' + limit\n",
    "print(final_url_yellow)"
   ]
  },
  {
   "cell_type": "code",
   "execution_count": 6,
   "id": "otherwise-lincoln",
   "metadata": {},
   "outputs": [],
   "source": [
    "# retrieve the data \n",
    "request_yellow = requests.get(url=final_url_yellow)\n",
    "df_yellow = pd.DataFrame(request_yellow.json())"
   ]
  },
  {
   "cell_type": "code",
   "execution_count": 7,
   "id": "computational-realtor",
   "metadata": {},
   "outputs": [
    {
     "data": {
      "text/html": [
       "<div>\n",
       "<style scoped>\n",
       "    .dataframe tbody tr th:only-of-type {\n",
       "        vertical-align: middle;\n",
       "    }\n",
       "\n",
       "    .dataframe tbody tr th {\n",
       "        vertical-align: top;\n",
       "    }\n",
       "\n",
       "    .dataframe thead th {\n",
       "        text-align: right;\n",
       "    }\n",
       "</style>\n",
       "<table border=\"1\" class=\"dataframe\">\n",
       "  <thead>\n",
       "    <tr style=\"text-align: right;\">\n",
       "      <th></th>\n",
       "      <th>vendorid</th>\n",
       "      <th>tpep_pickup_datetime</th>\n",
       "      <th>tpep_dropoff_datetime</th>\n",
       "      <th>passenger_count</th>\n",
       "      <th>trip_distance</th>\n",
       "      <th>ratecodeid</th>\n",
       "      <th>store_and_fwd_flag</th>\n",
       "      <th>pulocationid</th>\n",
       "      <th>dolocationid</th>\n",
       "      <th>payment_type</th>\n",
       "      <th>fare_amount</th>\n",
       "      <th>extra</th>\n",
       "      <th>mta_tax</th>\n",
       "      <th>tip_amount</th>\n",
       "      <th>tolls_amount</th>\n",
       "      <th>improvement_surcharge</th>\n",
       "      <th>total_amount</th>\n",
       "      <th>congestion_surcharge</th>\n",
       "    </tr>\n",
       "  </thead>\n",
       "  <tbody>\n",
       "    <tr>\n",
       "      <th>0</th>\n",
       "      <td>2</td>\n",
       "      <td>2020-03-18T23:36:33.000</td>\n",
       "      <td>2020-03-18T23:42:08.000</td>\n",
       "      <td>1</td>\n",
       "      <td>0.44</td>\n",
       "      <td>1</td>\n",
       "      <td>N</td>\n",
       "      <td>249</td>\n",
       "      <td>158</td>\n",
       "      <td>1</td>\n",
       "      <td>5.5</td>\n",
       "      <td>1</td>\n",
       "      <td>0.5</td>\n",
       "      <td>1</td>\n",
       "      <td>0</td>\n",
       "      <td>0.3</td>\n",
       "      <td>10.8</td>\n",
       "      <td>2.5</td>\n",
       "    </tr>\n",
       "    <tr>\n",
       "      <th>1</th>\n",
       "      <td>2</td>\n",
       "      <td>2020-03-18T23:44:51.000</td>\n",
       "      <td>2020-03-19T00:03:08.000</td>\n",
       "      <td>1</td>\n",
       "      <td>2.46</td>\n",
       "      <td>1</td>\n",
       "      <td>N</td>\n",
       "      <td>68</td>\n",
       "      <td>48</td>\n",
       "      <td>1</td>\n",
       "      <td>13</td>\n",
       "      <td>1</td>\n",
       "      <td>0.5</td>\n",
       "      <td>1</td>\n",
       "      <td>0</td>\n",
       "      <td>0.3</td>\n",
       "      <td>18.3</td>\n",
       "      <td>2.5</td>\n",
       "    </tr>\n",
       "    <tr>\n",
       "      <th>2</th>\n",
       "      <td>2</td>\n",
       "      <td>2020-03-21T02:00:09.000</td>\n",
       "      <td>2020-03-21T09:35:47.000</td>\n",
       "      <td>1</td>\n",
       "      <td>13.44</td>\n",
       "      <td>1</td>\n",
       "      <td>N</td>\n",
       "      <td>144</td>\n",
       "      <td>125</td>\n",
       "      <td>1</td>\n",
       "      <td>40.5</td>\n",
       "      <td>0.5</td>\n",
       "      <td>0.5</td>\n",
       "      <td>11.08</td>\n",
       "      <td>0</td>\n",
       "      <td>0.3</td>\n",
       "      <td>55.38</td>\n",
       "      <td>2.5</td>\n",
       "    </tr>\n",
       "    <tr>\n",
       "      <th>3</th>\n",
       "      <td>2</td>\n",
       "      <td>2020-04-11T09:51:46.000</td>\n",
       "      <td>2020-04-11T09:56:26.000</td>\n",
       "      <td>1</td>\n",
       "      <td>0.68</td>\n",
       "      <td>1</td>\n",
       "      <td>N</td>\n",
       "      <td>166</td>\n",
       "      <td>151</td>\n",
       "      <td>1</td>\n",
       "      <td>5</td>\n",
       "      <td>0.5</td>\n",
       "      <td>0.5</td>\n",
       "      <td>1</td>\n",
       "      <td>0</td>\n",
       "      <td>0.3</td>\n",
       "      <td>7.3</td>\n",
       "      <td>0</td>\n",
       "    </tr>\n",
       "    <tr>\n",
       "      <th>4</th>\n",
       "      <td>2</td>\n",
       "      <td>2020-04-11T10:03:24.000</td>\n",
       "      <td>2020-04-11T10:22:13.000</td>\n",
       "      <td>1</td>\n",
       "      <td>5.42</td>\n",
       "      <td>1</td>\n",
       "      <td>N</td>\n",
       "      <td>238</td>\n",
       "      <td>224</td>\n",
       "      <td>2</td>\n",
       "      <td>19.5</td>\n",
       "      <td>0.5</td>\n",
       "      <td>0.5</td>\n",
       "      <td>0</td>\n",
       "      <td>0</td>\n",
       "      <td>0.3</td>\n",
       "      <td>23.3</td>\n",
       "      <td>2.5</td>\n",
       "    </tr>\n",
       "  </tbody>\n",
       "</table>\n",
       "</div>"
      ],
      "text/plain": [
       "  vendorid     tpep_pickup_datetime    tpep_dropoff_datetime passenger_count  \\\n",
       "0        2  2020-03-18T23:36:33.000  2020-03-18T23:42:08.000               1   \n",
       "1        2  2020-03-18T23:44:51.000  2020-03-19T00:03:08.000               1   \n",
       "2        2  2020-03-21T02:00:09.000  2020-03-21T09:35:47.000               1   \n",
       "3        2  2020-04-11T09:51:46.000  2020-04-11T09:56:26.000               1   \n",
       "4        2  2020-04-11T10:03:24.000  2020-04-11T10:22:13.000               1   \n",
       "\n",
       "  trip_distance ratecodeid store_and_fwd_flag pulocationid dolocationid  \\\n",
       "0          0.44          1                  N          249          158   \n",
       "1          2.46          1                  N           68           48   \n",
       "2         13.44          1                  N          144          125   \n",
       "3          0.68          1                  N          166          151   \n",
       "4          5.42          1                  N          238          224   \n",
       "\n",
       "  payment_type fare_amount extra mta_tax tip_amount tolls_amount  \\\n",
       "0            1         5.5     1     0.5          1            0   \n",
       "1            1          13     1     0.5          1            0   \n",
       "2            1        40.5   0.5     0.5      11.08            0   \n",
       "3            1           5   0.5     0.5          1            0   \n",
       "4            2        19.5   0.5     0.5          0            0   \n",
       "\n",
       "  improvement_surcharge total_amount congestion_surcharge  \n",
       "0                   0.3         10.8                  2.5  \n",
       "1                   0.3         18.3                  2.5  \n",
       "2                   0.3        55.38                  2.5  \n",
       "3                   0.3          7.3                    0  \n",
       "4                   0.3         23.3                  2.5  "
      ]
     },
     "execution_count": 7,
     "metadata": {},
     "output_type": "execute_result"
    }
   ],
   "source": [
    "df_yellow.head()"
   ]
  },
  {
   "cell_type": "code",
   "execution_count": 8,
   "id": "appointed-rainbow",
   "metadata": {},
   "outputs": [
    {
     "data": {
      "text/plain": [
       "(15265563, 18)"
      ]
     },
     "execution_count": 8,
     "metadata": {},
     "output_type": "execute_result"
    }
   ],
   "source": [
    "df_yellow.shape"
   ]
  },
  {
   "cell_type": "code",
   "execution_count": 9,
   "id": "photographic-contact",
   "metadata": {},
   "outputs": [
    {
     "data": {
      "text/plain": [
       "vendorid                 object\n",
       "tpep_pickup_datetime     object\n",
       "tpep_dropoff_datetime    object\n",
       "passenger_count          object\n",
       "trip_distance            object\n",
       "ratecodeid               object\n",
       "store_and_fwd_flag       object\n",
       "pulocationid             object\n",
       "dolocationid             object\n",
       "payment_type             object\n",
       "fare_amount              object\n",
       "extra                    object\n",
       "mta_tax                  object\n",
       "tip_amount               object\n",
       "tolls_amount             object\n",
       "improvement_surcharge    object\n",
       "total_amount             object\n",
       "congestion_surcharge     object\n",
       "dtype: object"
      ]
     },
     "execution_count": 9,
     "metadata": {},
     "output_type": "execute_result"
    }
   ],
   "source": [
    "df_yellow.dtypes"
   ]
  },
  {
   "cell_type": "code",
   "execution_count": 10,
   "id": "equipped-venue",
   "metadata": {},
   "outputs": [],
   "source": [
    "df_yellow.to_csv('raw_yellow_ly.csv')"
   ]
  },
  {
   "cell_type": "markdown",
   "id": "unnecessary-internet",
   "metadata": {},
   "source": [
    "### Green Taxi"
   ]
  },
  {
   "cell_type": "markdown",
   "id": "crucial-business",
   "metadata": {},
   "source": [
    "https://data.cityofnewyork.us/Transportation/2019-Green-Taxi-Trip-Data/q5mz-t52e"
   ]
  },
  {
   "cell_type": "code",
   "execution_count": 11,
   "id": "rolled-scanning",
   "metadata": {},
   "outputs": [],
   "source": [
    "# base url\n",
    "base_url_green = 'https://data.cityofnewyork.us/resource/q5mz-t52e.json'"
   ]
  },
  {
   "cell_type": "code",
   "execution_count": 12,
   "id": "congressional-basement",
   "metadata": {},
   "outputs": [],
   "source": [
    "# filter for March and April\n",
    "soql_filter_green = '?$where=date_extract_m(lpep_pickup_datetime) in (3, 4)'"
   ]
  },
  {
   "cell_type": "code",
   "execution_count": 13,
   "id": "considerable-leader",
   "metadata": {},
   "outputs": [
    {
     "name": "stdout",
     "output_type": "stream",
     "text": [
      "https://data.cityofnewyork.us/resource/q5mz-t52e.json?$where=date_extract_m(lpep_pickup_datetime) in (3, 4)&$limit=100000000\n"
     ]
    }
   ],
   "source": [
    "# combine base url, filter, and limit\n",
    "final_url_green = base_url_green + soql_filter_green + '&' + limit\n",
    "print(final_url_green)"
   ]
  },
  {
   "cell_type": "code",
   "execution_count": 14,
   "id": "isolated-hacker",
   "metadata": {},
   "outputs": [],
   "source": [
    "# retrieve the data \n",
    "request_green = requests.get(url=final_url_green)\n",
    "df_green = pd.DataFrame(request_green.json())"
   ]
  },
  {
   "cell_type": "code",
   "execution_count": 15,
   "id": "durable-distribution",
   "metadata": {},
   "outputs": [
    {
     "data": {
      "text/html": [
       "<div>\n",
       "<style scoped>\n",
       "    .dataframe tbody tr th:only-of-type {\n",
       "        vertical-align: middle;\n",
       "    }\n",
       "\n",
       "    .dataframe tbody tr th {\n",
       "        vertical-align: top;\n",
       "    }\n",
       "\n",
       "    .dataframe thead th {\n",
       "        text-align: right;\n",
       "    }\n",
       "</style>\n",
       "<table border=\"1\" class=\"dataframe\">\n",
       "  <thead>\n",
       "    <tr style=\"text-align: right;\">\n",
       "      <th></th>\n",
       "      <th>vendorid</th>\n",
       "      <th>lpep_pickup_datetime</th>\n",
       "      <th>lpep_dropoff_datetime</th>\n",
       "      <th>store_and_fwd_flag</th>\n",
       "      <th>ratecodeid</th>\n",
       "      <th>pulocationid</th>\n",
       "      <th>dolocationid</th>\n",
       "      <th>passenger_count</th>\n",
       "      <th>trip_distance</th>\n",
       "      <th>fare_amount</th>\n",
       "      <th>extra</th>\n",
       "      <th>mta_tax</th>\n",
       "      <th>tip_amount</th>\n",
       "      <th>tolls_amount</th>\n",
       "      <th>improvement_surcharge</th>\n",
       "      <th>total_amount</th>\n",
       "      <th>payment_type</th>\n",
       "      <th>trip_type</th>\n",
       "      <th>congestion_surcharge</th>\n",
       "    </tr>\n",
       "  </thead>\n",
       "  <tbody>\n",
       "    <tr>\n",
       "      <th>0</th>\n",
       "      <td>2</td>\n",
       "      <td>2019-03-19T08:39:31.000</td>\n",
       "      <td>2019-03-19T08:54:26.000</td>\n",
       "      <td>N</td>\n",
       "      <td>1</td>\n",
       "      <td>75</td>\n",
       "      <td>170</td>\n",
       "      <td>1</td>\n",
       "      <td>4.06</td>\n",
       "      <td>13.5</td>\n",
       "      <td>0</td>\n",
       "      <td>0.5</td>\n",
       "      <td>5.12</td>\n",
       "      <td>0</td>\n",
       "      <td>0.3</td>\n",
       "      <td>22.17</td>\n",
       "      <td>1</td>\n",
       "      <td>1</td>\n",
       "      <td>2.75</td>\n",
       "    </tr>\n",
       "    <tr>\n",
       "      <th>1</th>\n",
       "      <td>2</td>\n",
       "      <td>2019-03-19T09:08:01.000</td>\n",
       "      <td>2019-03-19T09:18:28.000</td>\n",
       "      <td>N</td>\n",
       "      <td>1</td>\n",
       "      <td>75</td>\n",
       "      <td>75</td>\n",
       "      <td>1</td>\n",
       "      <td>1.09</td>\n",
       "      <td>8</td>\n",
       "      <td>0</td>\n",
       "      <td>0.5</td>\n",
       "      <td>0</td>\n",
       "      <td>0</td>\n",
       "      <td>0.3</td>\n",
       "      <td>8.8</td>\n",
       "      <td>1</td>\n",
       "      <td>1</td>\n",
       "      <td>0</td>\n",
       "    </tr>\n",
       "    <tr>\n",
       "      <th>2</th>\n",
       "      <td>2</td>\n",
       "      <td>2019-04-09T16:50:11.000</td>\n",
       "      <td>2019-04-09T16:59:35.000</td>\n",
       "      <td>N</td>\n",
       "      <td>1</td>\n",
       "      <td>74</td>\n",
       "      <td>262</td>\n",
       "      <td>1</td>\n",
       "      <td>1.67</td>\n",
       "      <td>8.5</td>\n",
       "      <td>0</td>\n",
       "      <td>0.5</td>\n",
       "      <td>0</td>\n",
       "      <td>0</td>\n",
       "      <td>0.3</td>\n",
       "      <td>9.3</td>\n",
       "      <td>1</td>\n",
       "      <td>1</td>\n",
       "      <td>0</td>\n",
       "    </tr>\n",
       "    <tr>\n",
       "      <th>3</th>\n",
       "      <td>2</td>\n",
       "      <td>2019-03-19T21:32:50.000</td>\n",
       "      <td>2019-03-19T21:40:00.000</td>\n",
       "      <td>N</td>\n",
       "      <td>1</td>\n",
       "      <td>74</td>\n",
       "      <td>41</td>\n",
       "      <td>1</td>\n",
       "      <td>1.05</td>\n",
       "      <td>6.5</td>\n",
       "      <td>0.5</td>\n",
       "      <td>0.5</td>\n",
       "      <td>0</td>\n",
       "      <td>0</td>\n",
       "      <td>0.3</td>\n",
       "      <td>7.8</td>\n",
       "      <td>2</td>\n",
       "      <td>1</td>\n",
       "      <td>0</td>\n",
       "    </tr>\n",
       "    <tr>\n",
       "      <th>4</th>\n",
       "      <td>2</td>\n",
       "      <td>2019-03-20T06:24:28.000</td>\n",
       "      <td>2019-03-20T06:34:25.000</td>\n",
       "      <td>N</td>\n",
       "      <td>1</td>\n",
       "      <td>74</td>\n",
       "      <td>152</td>\n",
       "      <td>1</td>\n",
       "      <td>1.64</td>\n",
       "      <td>8.5</td>\n",
       "      <td>0</td>\n",
       "      <td>0.5</td>\n",
       "      <td>1.86</td>\n",
       "      <td>0</td>\n",
       "      <td>0.3</td>\n",
       "      <td>11.16</td>\n",
       "      <td>1</td>\n",
       "      <td>1</td>\n",
       "      <td>0</td>\n",
       "    </tr>\n",
       "  </tbody>\n",
       "</table>\n",
       "</div>"
      ],
      "text/plain": [
       "  vendorid     lpep_pickup_datetime    lpep_dropoff_datetime  \\\n",
       "0        2  2019-03-19T08:39:31.000  2019-03-19T08:54:26.000   \n",
       "1        2  2019-03-19T09:08:01.000  2019-03-19T09:18:28.000   \n",
       "2        2  2019-04-09T16:50:11.000  2019-04-09T16:59:35.000   \n",
       "3        2  2019-03-19T21:32:50.000  2019-03-19T21:40:00.000   \n",
       "4        2  2019-03-20T06:24:28.000  2019-03-20T06:34:25.000   \n",
       "\n",
       "  store_and_fwd_flag ratecodeid pulocationid dolocationid passenger_count  \\\n",
       "0                  N          1           75          170               1   \n",
       "1                  N          1           75           75               1   \n",
       "2                  N          1           74          262               1   \n",
       "3                  N          1           74           41               1   \n",
       "4                  N          1           74          152               1   \n",
       "\n",
       "  trip_distance fare_amount extra mta_tax tip_amount tolls_amount  \\\n",
       "0          4.06        13.5     0     0.5       5.12            0   \n",
       "1          1.09           8     0     0.5          0            0   \n",
       "2          1.67         8.5     0     0.5          0            0   \n",
       "3          1.05         6.5   0.5     0.5          0            0   \n",
       "4          1.64         8.5     0     0.5       1.86            0   \n",
       "\n",
       "  improvement_surcharge total_amount payment_type trip_type  \\\n",
       "0                   0.3        22.17            1         1   \n",
       "1                   0.3          8.8            1         1   \n",
       "2                   0.3          9.3            1         1   \n",
       "3                   0.3          7.8            2         1   \n",
       "4                   0.3        11.16            1         1   \n",
       "\n",
       "  congestion_surcharge  \n",
       "0                 2.75  \n",
       "1                    0  \n",
       "2                    0  \n",
       "3                    0  \n",
       "4                    0  "
      ]
     },
     "execution_count": 15,
     "metadata": {},
     "output_type": "execute_result"
    }
   ],
   "source": [
    "df_green.head()"
   ]
  },
  {
   "cell_type": "code",
   "execution_count": 16,
   "id": "broken-cricket",
   "metadata": {},
   "outputs": [
    {
     "data": {
      "text/plain": [
       "(1115454, 19)"
      ]
     },
     "execution_count": 16,
     "metadata": {},
     "output_type": "execute_result"
    }
   ],
   "source": [
    "df_green.shape"
   ]
  },
  {
   "cell_type": "code",
   "execution_count": 17,
   "id": "matched-dylan",
   "metadata": {},
   "outputs": [
    {
     "data": {
      "text/plain": [
       "vendorid                 object\n",
       "lpep_pickup_datetime     object\n",
       "lpep_dropoff_datetime    object\n",
       "store_and_fwd_flag       object\n",
       "ratecodeid               object\n",
       "pulocationid             object\n",
       "dolocationid             object\n",
       "passenger_count          object\n",
       "trip_distance            object\n",
       "fare_amount              object\n",
       "extra                    object\n",
       "mta_tax                  object\n",
       "tip_amount               object\n",
       "tolls_amount             object\n",
       "improvement_surcharge    object\n",
       "total_amount             object\n",
       "payment_type             object\n",
       "trip_type                object\n",
       "congestion_surcharge     object\n",
       "dtype: object"
      ]
     },
     "execution_count": 17,
     "metadata": {},
     "output_type": "execute_result"
    }
   ],
   "source": [
    "df_green.dtypes"
   ]
  },
  {
   "cell_type": "code",
   "execution_count": 19,
   "id": "ideal-proceeding",
   "metadata": {},
   "outputs": [],
   "source": [
    "df_green.to_csv('raw_green_ly.csv')"
   ]
  },
  {
   "cell_type": "markdown",
   "id": "opponent-place",
   "metadata": {},
   "source": [
    "### Data Cleaning"
   ]
  },
  {
   "cell_type": "code",
   "execution_count": 19,
   "id": "known-trout",
   "metadata": {},
   "outputs": [],
   "source": [
    "# add taxi type\n",
    "df_yellow['type'] = 'yellow'\n",
    "df_green['type'] = 'green'"
   ]
  },
  {
   "cell_type": "code",
   "execution_count": 20,
   "id": "pacific-requirement",
   "metadata": {},
   "outputs": [
    {
     "data": {
      "text/html": [
       "<div>\n",
       "<style scoped>\n",
       "    .dataframe tbody tr th:only-of-type {\n",
       "        vertical-align: middle;\n",
       "    }\n",
       "\n",
       "    .dataframe tbody tr th {\n",
       "        vertical-align: top;\n",
       "    }\n",
       "\n",
       "    .dataframe thead th {\n",
       "        text-align: right;\n",
       "    }\n",
       "</style>\n",
       "<table border=\"1\" class=\"dataframe\">\n",
       "  <thead>\n",
       "    <tr style=\"text-align: right;\">\n",
       "      <th></th>\n",
       "      <th>pickup_datetime</th>\n",
       "      <th>dropoff_datetime</th>\n",
       "      <th>pulocationid</th>\n",
       "      <th>dolocationid</th>\n",
       "      <th>type</th>\n",
       "    </tr>\n",
       "  </thead>\n",
       "  <tbody>\n",
       "    <tr>\n",
       "      <th>0</th>\n",
       "      <td>2020-03-07T16:45:23.000</td>\n",
       "      <td>2020-03-07T16:54:59.000</td>\n",
       "      <td>79</td>\n",
       "      <td>170</td>\n",
       "      <td>yellow</td>\n",
       "    </tr>\n",
       "    <tr>\n",
       "      <th>1</th>\n",
       "      <td>2020-03-29T01:46:23.000</td>\n",
       "      <td>2020-03-29T02:02:21.000</td>\n",
       "      <td>229</td>\n",
       "      <td>143</td>\n",
       "      <td>yellow</td>\n",
       "    </tr>\n",
       "    <tr>\n",
       "      <th>2</th>\n",
       "      <td>2020-03-29T02:07:55.000</td>\n",
       "      <td>2020-03-29T02:10:35.000</td>\n",
       "      <td>239</td>\n",
       "      <td>238</td>\n",
       "      <td>yellow</td>\n",
       "    </tr>\n",
       "    <tr>\n",
       "      <th>3</th>\n",
       "      <td>2020-03-29T02:12:08.000</td>\n",
       "      <td>2020-03-29T09:20:23.000</td>\n",
       "      <td>238</td>\n",
       "      <td>142</td>\n",
       "      <td>yellow</td>\n",
       "    </tr>\n",
       "    <tr>\n",
       "      <th>4</th>\n",
       "      <td>2020-04-19T09:28:21.000</td>\n",
       "      <td>2020-04-19T09:51:39.000</td>\n",
       "      <td>162</td>\n",
       "      <td>211</td>\n",
       "      <td>yellow</td>\n",
       "    </tr>\n",
       "  </tbody>\n",
       "</table>\n",
       "</div>"
      ],
      "text/plain": [
       "           pickup_datetime         dropoff_datetime pulocationid dolocationid  \\\n",
       "0  2020-03-07T16:45:23.000  2020-03-07T16:54:59.000           79          170   \n",
       "1  2020-03-29T01:46:23.000  2020-03-29T02:02:21.000          229          143   \n",
       "2  2020-03-29T02:07:55.000  2020-03-29T02:10:35.000          239          238   \n",
       "3  2020-03-29T02:12:08.000  2020-03-29T09:20:23.000          238          142   \n",
       "4  2020-04-19T09:28:21.000  2020-04-19T09:51:39.000          162          211   \n",
       "\n",
       "     type  \n",
       "0  yellow  \n",
       "1  yellow  \n",
       "2  yellow  \n",
       "3  yellow  \n",
       "4  yellow  "
      ]
     },
     "execution_count": 20,
     "metadata": {},
     "output_type": "execute_result"
    }
   ],
   "source": [
    "df_yellow_base = df_yellow[['tpep_pickup_datetime', 'tpep_dropoff_datetime', 'pulocationid', 'dolocationid', 'type']]\\\n",
    "                 .rename(columns={'tpep_pickup_datetime': 'pickup_datetime', 'tpep_dropoff_datetime': 'dropoff_datetime'})\n",
    "df_yellow_base.head()"
   ]
  },
  {
   "cell_type": "code",
   "execution_count": 21,
   "id": "imposed-suspect",
   "metadata": {},
   "outputs": [
    {
     "data": {
      "text/plain": [
       "(15265563, 5)"
      ]
     },
     "execution_count": 21,
     "metadata": {},
     "output_type": "execute_result"
    }
   ],
   "source": [
    "df_yellow_base.shape"
   ]
  },
  {
   "cell_type": "code",
   "execution_count": 22,
   "id": "possible-bumper",
   "metadata": {},
   "outputs": [
    {
     "data": {
      "text/html": [
       "<div>\n",
       "<style scoped>\n",
       "    .dataframe tbody tr th:only-of-type {\n",
       "        vertical-align: middle;\n",
       "    }\n",
       "\n",
       "    .dataframe tbody tr th {\n",
       "        vertical-align: top;\n",
       "    }\n",
       "\n",
       "    .dataframe thead th {\n",
       "        text-align: right;\n",
       "    }\n",
       "</style>\n",
       "<table border=\"1\" class=\"dataframe\">\n",
       "  <thead>\n",
       "    <tr style=\"text-align: right;\">\n",
       "      <th></th>\n",
       "      <th>pickup_datetime</th>\n",
       "      <th>dropoff_datetime</th>\n",
       "      <th>pulocationid</th>\n",
       "      <th>dolocationid</th>\n",
       "      <th>type</th>\n",
       "    </tr>\n",
       "  </thead>\n",
       "  <tbody>\n",
       "    <tr>\n",
       "      <th>0</th>\n",
       "      <td>2019-03-19T08:39:31.000</td>\n",
       "      <td>2019-03-19T08:54:26.000</td>\n",
       "      <td>75</td>\n",
       "      <td>170</td>\n",
       "      <td>green</td>\n",
       "    </tr>\n",
       "    <tr>\n",
       "      <th>1</th>\n",
       "      <td>2019-03-19T09:08:01.000</td>\n",
       "      <td>2019-03-19T09:18:28.000</td>\n",
       "      <td>75</td>\n",
       "      <td>75</td>\n",
       "      <td>green</td>\n",
       "    </tr>\n",
       "    <tr>\n",
       "      <th>2</th>\n",
       "      <td>2019-04-09T16:50:11.000</td>\n",
       "      <td>2019-04-09T16:59:35.000</td>\n",
       "      <td>74</td>\n",
       "      <td>262</td>\n",
       "      <td>green</td>\n",
       "    </tr>\n",
       "    <tr>\n",
       "      <th>3</th>\n",
       "      <td>2019-03-19T21:32:50.000</td>\n",
       "      <td>2019-03-19T21:40:00.000</td>\n",
       "      <td>74</td>\n",
       "      <td>41</td>\n",
       "      <td>green</td>\n",
       "    </tr>\n",
       "    <tr>\n",
       "      <th>4</th>\n",
       "      <td>2019-03-20T06:24:28.000</td>\n",
       "      <td>2019-03-20T06:34:25.000</td>\n",
       "      <td>74</td>\n",
       "      <td>152</td>\n",
       "      <td>green</td>\n",
       "    </tr>\n",
       "  </tbody>\n",
       "</table>\n",
       "</div>"
      ],
      "text/plain": [
       "           pickup_datetime         dropoff_datetime pulocationid dolocationid  \\\n",
       "0  2019-03-19T08:39:31.000  2019-03-19T08:54:26.000           75          170   \n",
       "1  2019-03-19T09:08:01.000  2019-03-19T09:18:28.000           75           75   \n",
       "2  2019-04-09T16:50:11.000  2019-04-09T16:59:35.000           74          262   \n",
       "3  2019-03-19T21:32:50.000  2019-03-19T21:40:00.000           74           41   \n",
       "4  2019-03-20T06:24:28.000  2019-03-20T06:34:25.000           74          152   \n",
       "\n",
       "    type  \n",
       "0  green  \n",
       "1  green  \n",
       "2  green  \n",
       "3  green  \n",
       "4  green  "
      ]
     },
     "execution_count": 22,
     "metadata": {},
     "output_type": "execute_result"
    }
   ],
   "source": [
    "df_green_base = df_green[['lpep_pickup_datetime', 'lpep_dropoff_datetime', 'pulocationid', 'dolocationid', 'type']]\\\n",
    "                 .rename(columns={'lpep_pickup_datetime': 'pickup_datetime', 'lpep_dropoff_datetime': 'dropoff_datetime'})\n",
    "df_green_base.head()"
   ]
  },
  {
   "cell_type": "code",
   "execution_count": 23,
   "id": "broadband-vitamin",
   "metadata": {},
   "outputs": [
    {
     "data": {
      "text/plain": [
       "(1115454, 5)"
      ]
     },
     "execution_count": 23,
     "metadata": {},
     "output_type": "execute_result"
    }
   ],
   "source": [
    "df_green_base.shape"
   ]
  },
  {
   "cell_type": "code",
   "execution_count": 24,
   "id": "homeless-imaging",
   "metadata": {},
   "outputs": [],
   "source": [
    "df_taxi = pd.concat([df_yellow_base, df_green_base], axis=0)"
   ]
  },
  {
   "cell_type": "code",
   "execution_count": 25,
   "id": "pacific-logic",
   "metadata": {},
   "outputs": [
    {
     "data": {
      "text/html": [
       "<div>\n",
       "<style scoped>\n",
       "    .dataframe tbody tr th:only-of-type {\n",
       "        vertical-align: middle;\n",
       "    }\n",
       "\n",
       "    .dataframe tbody tr th {\n",
       "        vertical-align: top;\n",
       "    }\n",
       "\n",
       "    .dataframe thead th {\n",
       "        text-align: right;\n",
       "    }\n",
       "</style>\n",
       "<table border=\"1\" class=\"dataframe\">\n",
       "  <thead>\n",
       "    <tr style=\"text-align: right;\">\n",
       "      <th></th>\n",
       "      <th>pickup_datetime</th>\n",
       "      <th>dropoff_datetime</th>\n",
       "      <th>pulocationid</th>\n",
       "      <th>dolocationid</th>\n",
       "      <th>type</th>\n",
       "    </tr>\n",
       "  </thead>\n",
       "  <tbody>\n",
       "    <tr>\n",
       "      <th>0</th>\n",
       "      <td>2020-03-07T16:45:23.000</td>\n",
       "      <td>2020-03-07T16:54:59.000</td>\n",
       "      <td>79</td>\n",
       "      <td>170</td>\n",
       "      <td>yellow</td>\n",
       "    </tr>\n",
       "    <tr>\n",
       "      <th>1</th>\n",
       "      <td>2020-03-29T01:46:23.000</td>\n",
       "      <td>2020-03-29T02:02:21.000</td>\n",
       "      <td>229</td>\n",
       "      <td>143</td>\n",
       "      <td>yellow</td>\n",
       "    </tr>\n",
       "    <tr>\n",
       "      <th>2</th>\n",
       "      <td>2020-03-29T02:07:55.000</td>\n",
       "      <td>2020-03-29T02:10:35.000</td>\n",
       "      <td>239</td>\n",
       "      <td>238</td>\n",
       "      <td>yellow</td>\n",
       "    </tr>\n",
       "    <tr>\n",
       "      <th>3</th>\n",
       "      <td>2020-03-29T02:12:08.000</td>\n",
       "      <td>2020-03-29T09:20:23.000</td>\n",
       "      <td>238</td>\n",
       "      <td>142</td>\n",
       "      <td>yellow</td>\n",
       "    </tr>\n",
       "    <tr>\n",
       "      <th>4</th>\n",
       "      <td>2020-04-19T09:28:21.000</td>\n",
       "      <td>2020-04-19T09:51:39.000</td>\n",
       "      <td>162</td>\n",
       "      <td>211</td>\n",
       "      <td>yellow</td>\n",
       "    </tr>\n",
       "  </tbody>\n",
       "</table>\n",
       "</div>"
      ],
      "text/plain": [
       "           pickup_datetime         dropoff_datetime pulocationid dolocationid  \\\n",
       "0  2020-03-07T16:45:23.000  2020-03-07T16:54:59.000           79          170   \n",
       "1  2020-03-29T01:46:23.000  2020-03-29T02:02:21.000          229          143   \n",
       "2  2020-03-29T02:07:55.000  2020-03-29T02:10:35.000          239          238   \n",
       "3  2020-03-29T02:12:08.000  2020-03-29T09:20:23.000          238          142   \n",
       "4  2020-04-19T09:28:21.000  2020-04-19T09:51:39.000          162          211   \n",
       "\n",
       "     type  \n",
       "0  yellow  \n",
       "1  yellow  \n",
       "2  yellow  \n",
       "3  yellow  \n",
       "4  yellow  "
      ]
     },
     "execution_count": 25,
     "metadata": {},
     "output_type": "execute_result"
    }
   ],
   "source": [
    "df_taxi.head()"
   ]
  },
  {
   "cell_type": "code",
   "execution_count": 26,
   "id": "accomplished-cutting",
   "metadata": {},
   "outputs": [
    {
     "data": {
      "text/plain": [
       "(16381017, 5)"
      ]
     },
     "execution_count": 26,
     "metadata": {},
     "output_type": "execute_result"
    }
   ],
   "source": [
    "df_taxi.shape"
   ]
  },
  {
   "cell_type": "code",
   "execution_count": 27,
   "id": "informational-piece",
   "metadata": {},
   "outputs": [],
   "source": [
    "df_taxi['pickup_datetime'] = pd.to_datetime(df_taxi['pickup_datetime'])\n",
    "df_taxi['dropoff_datettime'] = pd.to_datetime(df_taxi['dropoff_datetime'])"
   ]
  },
  {
   "cell_type": "code",
   "execution_count": 28,
   "id": "blessed-healthcare",
   "metadata": {},
   "outputs": [],
   "source": [
    "df_taxi['pu_year'] = df_taxi['pickup_datetime'].dt.year\n",
    "df_taxi['pu_month'] = df_taxi['pickup_datetime'].dt.month\n",
    "df_taxi['pu_day'] = df_taxi['pickup_datetime'].dt.day\n",
    "df_taxi['pu_hour'] = df_taxi['pickup_datetime'].dt.hour"
   ]
  },
  {
   "cell_type": "code",
   "execution_count": 29,
   "id": "horizontal-spanking",
   "metadata": {},
   "outputs": [
    {
     "data": {
      "text/html": [
       "<div>\n",
       "<style scoped>\n",
       "    .dataframe tbody tr th:only-of-type {\n",
       "        vertical-align: middle;\n",
       "    }\n",
       "\n",
       "    .dataframe tbody tr th {\n",
       "        vertical-align: top;\n",
       "    }\n",
       "\n",
       "    .dataframe thead th {\n",
       "        text-align: right;\n",
       "    }\n",
       "</style>\n",
       "<table border=\"1\" class=\"dataframe\">\n",
       "  <thead>\n",
       "    <tr style=\"text-align: right;\">\n",
       "      <th></th>\n",
       "      <th>pickup_datetime</th>\n",
       "      <th>dropoff_datetime</th>\n",
       "      <th>pulocationid</th>\n",
       "      <th>dolocationid</th>\n",
       "      <th>type</th>\n",
       "      <th>dropoff_datettime</th>\n",
       "      <th>pu_year</th>\n",
       "      <th>pu_month</th>\n",
       "      <th>pu_day</th>\n",
       "      <th>pu_hour</th>\n",
       "    </tr>\n",
       "  </thead>\n",
       "  <tbody>\n",
       "    <tr>\n",
       "      <th>0</th>\n",
       "      <td>2020-03-07 16:45:23</td>\n",
       "      <td>2020-03-07T16:54:59.000</td>\n",
       "      <td>79</td>\n",
       "      <td>170</td>\n",
       "      <td>yellow</td>\n",
       "      <td>2020-03-07 16:54:59</td>\n",
       "      <td>2020</td>\n",
       "      <td>3</td>\n",
       "      <td>7</td>\n",
       "      <td>16</td>\n",
       "    </tr>\n",
       "    <tr>\n",
       "      <th>1</th>\n",
       "      <td>2020-03-29 01:46:23</td>\n",
       "      <td>2020-03-29T02:02:21.000</td>\n",
       "      <td>229</td>\n",
       "      <td>143</td>\n",
       "      <td>yellow</td>\n",
       "      <td>2020-03-29 02:02:21</td>\n",
       "      <td>2020</td>\n",
       "      <td>3</td>\n",
       "      <td>29</td>\n",
       "      <td>1</td>\n",
       "    </tr>\n",
       "    <tr>\n",
       "      <th>2</th>\n",
       "      <td>2020-03-29 02:07:55</td>\n",
       "      <td>2020-03-29T02:10:35.000</td>\n",
       "      <td>239</td>\n",
       "      <td>238</td>\n",
       "      <td>yellow</td>\n",
       "      <td>2020-03-29 02:10:35</td>\n",
       "      <td>2020</td>\n",
       "      <td>3</td>\n",
       "      <td>29</td>\n",
       "      <td>2</td>\n",
       "    </tr>\n",
       "    <tr>\n",
       "      <th>3</th>\n",
       "      <td>2020-03-29 02:12:08</td>\n",
       "      <td>2020-03-29T09:20:23.000</td>\n",
       "      <td>238</td>\n",
       "      <td>142</td>\n",
       "      <td>yellow</td>\n",
       "      <td>2020-03-29 09:20:23</td>\n",
       "      <td>2020</td>\n",
       "      <td>3</td>\n",
       "      <td>29</td>\n",
       "      <td>2</td>\n",
       "    </tr>\n",
       "    <tr>\n",
       "      <th>4</th>\n",
       "      <td>2020-04-19 09:28:21</td>\n",
       "      <td>2020-04-19T09:51:39.000</td>\n",
       "      <td>162</td>\n",
       "      <td>211</td>\n",
       "      <td>yellow</td>\n",
       "      <td>2020-04-19 09:51:39</td>\n",
       "      <td>2020</td>\n",
       "      <td>4</td>\n",
       "      <td>19</td>\n",
       "      <td>9</td>\n",
       "    </tr>\n",
       "  </tbody>\n",
       "</table>\n",
       "</div>"
      ],
      "text/plain": [
       "      pickup_datetime         dropoff_datetime pulocationid dolocationid  \\\n",
       "0 2020-03-07 16:45:23  2020-03-07T16:54:59.000           79          170   \n",
       "1 2020-03-29 01:46:23  2020-03-29T02:02:21.000          229          143   \n",
       "2 2020-03-29 02:07:55  2020-03-29T02:10:35.000          239          238   \n",
       "3 2020-03-29 02:12:08  2020-03-29T09:20:23.000          238          142   \n",
       "4 2020-04-19 09:28:21  2020-04-19T09:51:39.000          162          211   \n",
       "\n",
       "     type   dropoff_datettime  pu_year  pu_month  pu_day  pu_hour  \n",
       "0  yellow 2020-03-07 16:54:59     2020         3       7       16  \n",
       "1  yellow 2020-03-29 02:02:21     2020         3      29        1  \n",
       "2  yellow 2020-03-29 02:10:35     2020         3      29        2  \n",
       "3  yellow 2020-03-29 09:20:23     2020         3      29        2  \n",
       "4  yellow 2020-04-19 09:51:39     2020         4      19        9  "
      ]
     },
     "execution_count": 29,
     "metadata": {},
     "output_type": "execute_result"
    }
   ],
   "source": [
    "df_taxi.head()"
   ]
  },
  {
   "cell_type": "code",
   "execution_count": 34,
   "id": "numerous-chamber",
   "metadata": {},
   "outputs": [],
   "source": [
    "df_taxi = df_taxi[df_taxi['pu_year'] == 2019] # yellow taxi contains data for 2020"
   ]
  },
  {
   "cell_type": "code",
   "execution_count": 37,
   "id": "twenty-attempt",
   "metadata": {},
   "outputs": [
    {
     "data": {
      "text/plain": [
       "(16380920, 10)"
      ]
     },
     "execution_count": 37,
     "metadata": {},
     "output_type": "execute_result"
    }
   ],
   "source": [
    "df_taxi.shape"
   ]
  },
  {
   "cell_type": "markdown",
   "id": "saving-capture",
   "metadata": {},
   "source": [
    "### Trip Count"
   ]
  },
  {
   "cell_type": "code",
   "execution_count": 38,
   "id": "approved-ethernet",
   "metadata": {},
   "outputs": [
    {
     "data": {
      "text/html": [
       "<div>\n",
       "<style scoped>\n",
       "    .dataframe tbody tr th:only-of-type {\n",
       "        vertical-align: middle;\n",
       "    }\n",
       "\n",
       "    .dataframe tbody tr th {\n",
       "        vertical-align: top;\n",
       "    }\n",
       "\n",
       "    .dataframe thead th {\n",
       "        text-align: right;\n",
       "    }\n",
       "</style>\n",
       "<table border=\"1\" class=\"dataframe\">\n",
       "  <thead>\n",
       "    <tr style=\"text-align: right;\">\n",
       "      <th></th>\n",
       "      <th></th>\n",
       "      <th></th>\n",
       "      <th></th>\n",
       "      <th></th>\n",
       "      <th>trips</th>\n",
       "    </tr>\n",
       "    <tr>\n",
       "      <th>type</th>\n",
       "      <th>pu_month</th>\n",
       "      <th>pu_day</th>\n",
       "      <th>pu_hour</th>\n",
       "      <th>pulocationid</th>\n",
       "      <th></th>\n",
       "    </tr>\n",
       "  </thead>\n",
       "  <tbody>\n",
       "    <tr>\n",
       "      <th rowspan=\"5\" valign=\"top\">green</th>\n",
       "      <th rowspan=\"5\" valign=\"top\">3</th>\n",
       "      <th rowspan=\"5\" valign=\"top\">1</th>\n",
       "      <th rowspan=\"5\" valign=\"top\">0</th>\n",
       "      <th>100</th>\n",
       "      <td>1</td>\n",
       "    </tr>\n",
       "    <tr>\n",
       "      <th>106</th>\n",
       "      <td>2</td>\n",
       "    </tr>\n",
       "    <tr>\n",
       "      <th>112</th>\n",
       "      <td>11</td>\n",
       "    </tr>\n",
       "    <tr>\n",
       "      <th>116</th>\n",
       "      <td>7</td>\n",
       "    </tr>\n",
       "    <tr>\n",
       "      <th>119</th>\n",
       "      <td>1</td>\n",
       "    </tr>\n",
       "  </tbody>\n",
       "</table>\n",
       "</div>"
      ],
      "text/plain": [
       "                                            trips\n",
       "type  pu_month pu_day pu_hour pulocationid       \n",
       "green 3        1      0       100               1\n",
       "                              106               2\n",
       "                              112              11\n",
       "                              116               7\n",
       "                              119               1"
      ]
     },
     "execution_count": 38,
     "metadata": {},
     "output_type": "execute_result"
    }
   ],
   "source": [
    "df_agg_pu = df_taxi.groupby(['type', 'pu_month', 'pu_day', 'pu_hour', 'pulocationid']).agg({'pickup_datetime': 'count'}).rename(columns={'pickup_datetime': 'trips'})\n",
    "df_agg_pu.head()"
   ]
  },
  {
   "cell_type": "code",
   "execution_count": 39,
   "id": "comparable-maximum",
   "metadata": {},
   "outputs": [
    {
     "data": {
      "text/html": [
       "<div>\n",
       "<style scoped>\n",
       "    .dataframe tbody tr th:only-of-type {\n",
       "        vertical-align: middle;\n",
       "    }\n",
       "\n",
       "    .dataframe tbody tr th {\n",
       "        vertical-align: top;\n",
       "    }\n",
       "\n",
       "    .dataframe thead th {\n",
       "        text-align: right;\n",
       "    }\n",
       "</style>\n",
       "<table border=\"1\" class=\"dataframe\">\n",
       "  <thead>\n",
       "    <tr style=\"text-align: right;\">\n",
       "      <th></th>\n",
       "      <th></th>\n",
       "      <th></th>\n",
       "      <th></th>\n",
       "      <th></th>\n",
       "      <th>trips</th>\n",
       "    </tr>\n",
       "    <tr>\n",
       "      <th>type</th>\n",
       "      <th>pu_month</th>\n",
       "      <th>pu_day</th>\n",
       "      <th>pu_hour</th>\n",
       "      <th>dolocationid</th>\n",
       "      <th></th>\n",
       "    </tr>\n",
       "  </thead>\n",
       "  <tbody>\n",
       "    <tr>\n",
       "      <th rowspan=\"5\" valign=\"top\">green</th>\n",
       "      <th rowspan=\"5\" valign=\"top\">3</th>\n",
       "      <th rowspan=\"5\" valign=\"top\">1</th>\n",
       "      <th rowspan=\"5\" valign=\"top\">0</th>\n",
       "      <th>10</th>\n",
       "      <td>3</td>\n",
       "    </tr>\n",
       "    <tr>\n",
       "      <th>101</th>\n",
       "      <td>1</td>\n",
       "    </tr>\n",
       "    <tr>\n",
       "      <th>106</th>\n",
       "      <td>2</td>\n",
       "    </tr>\n",
       "    <tr>\n",
       "      <th>108</th>\n",
       "      <td>1</td>\n",
       "    </tr>\n",
       "    <tr>\n",
       "      <th>112</th>\n",
       "      <td>12</td>\n",
       "    </tr>\n",
       "  </tbody>\n",
       "</table>\n",
       "</div>"
      ],
      "text/plain": [
       "                                            trips\n",
       "type  pu_month pu_day pu_hour dolocationid       \n",
       "green 3        1      0       10                3\n",
       "                              101               1\n",
       "                              106               2\n",
       "                              108               1\n",
       "                              112              12"
      ]
     },
     "execution_count": 39,
     "metadata": {},
     "output_type": "execute_result"
    }
   ],
   "source": [
    "df_agg_do = df_taxi.groupby(['type', 'pu_month', 'pu_day', 'pu_hour', 'dolocationid']).agg({'dropoff_datetime': 'count'}).rename(columns={'dropoff_datetime': 'trips'})\n",
    "df_agg_do.head()"
   ]
  },
  {
   "cell_type": "code",
   "execution_count": 40,
   "id": "british-riding",
   "metadata": {},
   "outputs": [
    {
     "data": {
      "text/plain": [
       "(351928, 1)"
      ]
     },
     "execution_count": 40,
     "metadata": {},
     "output_type": "execute_result"
    }
   ],
   "source": [
    "df_agg_pu.shape"
   ]
  },
  {
   "cell_type": "code",
   "execution_count": 41,
   "id": "organizational-voltage",
   "metadata": {},
   "outputs": [
    {
     "data": {
      "text/plain": [
       "(514045, 1)"
      ]
     },
     "execution_count": 41,
     "metadata": {},
     "output_type": "execute_result"
    }
   ],
   "source": [
    "df_agg_do.shape"
   ]
  },
  {
   "cell_type": "code",
   "execution_count": 42,
   "id": "generic-reproduction",
   "metadata": {},
   "outputs": [],
   "source": [
    "df_agg_pu.to_csv('taxi_pickup_ly.csv')"
   ]
  },
  {
   "cell_type": "code",
   "execution_count": 43,
   "id": "exotic-liberal",
   "metadata": {},
   "outputs": [],
   "source": [
    "df_agg_do.to_csv('taxi_dropoff_ly.csv')"
   ]
  },
  {
   "cell_type": "code",
   "execution_count": null,
   "id": "union-immune",
   "metadata": {},
   "outputs": [],
   "source": []
  }
 ],
 "metadata": {
  "kernelspec": {
   "display_name": "Python 3",
   "language": "python",
   "name": "python3"
  },
  "language_info": {
   "codemirror_mode": {
    "name": "ipython",
    "version": 3
   },
   "file_extension": ".py",
   "mimetype": "text/x-python",
   "name": "python",
   "nbconvert_exporter": "python",
   "pygments_lexer": "ipython3",
   "version": "3.9.1"
  }
 },
 "nbformat": 4,
 "nbformat_minor": 5
}
