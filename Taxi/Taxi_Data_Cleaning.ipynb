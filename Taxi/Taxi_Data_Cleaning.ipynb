{
 "cells": [
  {
   "cell_type": "code",
   "execution_count": 1,
   "id": "fifth-joshua",
   "metadata": {},
   "outputs": [],
   "source": [
    "import pandas as pd\n",
    "import requests"
   ]
  },
  {
   "cell_type": "code",
   "execution_count": 2,
   "id": "great-significance",
   "metadata": {},
   "outputs": [],
   "source": [
    "# API: default is 1000\n",
    "limit = '$limit=100000000'"
   ]
  },
  {
   "cell_type": "markdown",
   "id": "located-discharge",
   "metadata": {},
   "source": [
    "### Yellow Taxi"
   ]
  },
  {
   "cell_type": "markdown",
   "id": "ranking-sender",
   "metadata": {},
   "source": [
    "https://data.cityofnewyork.us/Transportation/2020-Yellow-Taxi-Trip-Data/kxp8-n2sj"
   ]
  },
  {
   "cell_type": "code",
   "execution_count": 3,
   "id": "headed-arrow",
   "metadata": {},
   "outputs": [],
   "source": [
    "# base url\n",
    "base_url_yellow = 'https://data.cityofnewyork.us/resource/kxp8-n2sj.json'"
   ]
  },
  {
   "cell_type": "code",
   "execution_count": 4,
   "id": "contained-survivor",
   "metadata": {},
   "outputs": [],
   "source": [
    "# filter for March and April\n",
    "soql_filter_yellow = '?$where=date_extract_m(tpep_pickup_datetime) in (3, 4)'"
   ]
  },
  {
   "cell_type": "code",
   "execution_count": 5,
   "id": "current-interpretation",
   "metadata": {},
   "outputs": [
    {
     "name": "stdout",
     "output_type": "stream",
     "text": [
      "https://data.cityofnewyork.us/resource/kxp8-n2sj.json?$where=date_extract_m(tpep_pickup_datetime) in (3, 4)&$limit=100000000\n"
     ]
    }
   ],
   "source": [
    "# combine base url, filter, and limit\n",
    "final_url_yellow = base_url_yellow + soql_filter_yellow + '&' + limit\n",
    "print(final_url_yellow)"
   ]
  },
  {
   "cell_type": "code",
   "execution_count": 6,
   "id": "tropical-panama",
   "metadata": {},
   "outputs": [],
   "source": [
    "# retrieve the data \n",
    "request_yellow = requests.get(url=final_url_yellow)\n",
    "df_yellow = pd.DataFrame(request_yellow.json())"
   ]
  },
  {
   "cell_type": "code",
   "execution_count": 7,
   "id": "everyday-spell",
   "metadata": {},
   "outputs": [
    {
     "data": {
      "text/html": [
       "<div>\n",
       "<style scoped>\n",
       "    .dataframe tbody tr th:only-of-type {\n",
       "        vertical-align: middle;\n",
       "    }\n",
       "\n",
       "    .dataframe tbody tr th {\n",
       "        vertical-align: top;\n",
       "    }\n",
       "\n",
       "    .dataframe thead th {\n",
       "        text-align: right;\n",
       "    }\n",
       "</style>\n",
       "<table border=\"1\" class=\"dataframe\">\n",
       "  <thead>\n",
       "    <tr style=\"text-align: right;\">\n",
       "      <th></th>\n",
       "      <th>vendorid</th>\n",
       "      <th>tpep_pickup_datetime</th>\n",
       "      <th>tpep_dropoff_datetime</th>\n",
       "      <th>passenger_count</th>\n",
       "      <th>trip_distance</th>\n",
       "      <th>ratecodeid</th>\n",
       "      <th>store_and_fwd_flag</th>\n",
       "      <th>pulocationid</th>\n",
       "      <th>dolocationid</th>\n",
       "      <th>payment_type</th>\n",
       "      <th>fare_amount</th>\n",
       "      <th>extra</th>\n",
       "      <th>mta_tax</th>\n",
       "      <th>tip_amount</th>\n",
       "      <th>tolls_amount</th>\n",
       "      <th>improvement_surcharge</th>\n",
       "      <th>total_amount</th>\n",
       "      <th>congestion_surcharge</th>\n",
       "    </tr>\n",
       "  </thead>\n",
       "  <tbody>\n",
       "    <tr>\n",
       "      <th>0</th>\n",
       "      <td>2</td>\n",
       "      <td>2020-03-16T06:17:14.000</td>\n",
       "      <td>2020-03-16T06:21:45.000</td>\n",
       "      <td>3</td>\n",
       "      <td>1.21</td>\n",
       "      <td>1</td>\n",
       "      <td>N</td>\n",
       "      <td>24</td>\n",
       "      <td>152</td>\n",
       "      <td>1</td>\n",
       "      <td>6</td>\n",
       "      <td>0.5</td>\n",
       "      <td>0.5</td>\n",
       "      <td>1.46</td>\n",
       "      <td>0</td>\n",
       "      <td>0.3</td>\n",
       "      <td>8.76</td>\n",
       "      <td>0</td>\n",
       "    </tr>\n",
       "    <tr>\n",
       "      <th>1</th>\n",
       "      <td>2</td>\n",
       "      <td>2020-03-04T10:12:32.000</td>\n",
       "      <td>2020-03-04T10:23:48.000</td>\n",
       "      <td>1</td>\n",
       "      <td>1.19</td>\n",
       "      <td>1</td>\n",
       "      <td>N</td>\n",
       "      <td>43</td>\n",
       "      <td>161</td>\n",
       "      <td>1</td>\n",
       "      <td>8.5</td>\n",
       "      <td>0</td>\n",
       "      <td>0.5</td>\n",
       "      <td>3.54</td>\n",
       "      <td>0</td>\n",
       "      <td>0.3</td>\n",
       "      <td>15.34</td>\n",
       "      <td>2.5</td>\n",
       "    </tr>\n",
       "    <tr>\n",
       "      <th>2</th>\n",
       "      <td>2</td>\n",
       "      <td>2020-03-25T18:51:29.000</td>\n",
       "      <td>2020-03-25T19:00:25.000</td>\n",
       "      <td>1</td>\n",
       "      <td>0.86</td>\n",
       "      <td>1</td>\n",
       "      <td>N</td>\n",
       "      <td>43</td>\n",
       "      <td>161</td>\n",
       "      <td>1</td>\n",
       "      <td>7</td>\n",
       "      <td>0</td>\n",
       "      <td>0.5</td>\n",
       "      <td>1</td>\n",
       "      <td>0</td>\n",
       "      <td>0.3</td>\n",
       "      <td>11.3</td>\n",
       "      <td>2.5</td>\n",
       "    </tr>\n",
       "    <tr>\n",
       "      <th>3</th>\n",
       "      <td>2</td>\n",
       "      <td>2020-03-25T19:24:19.000</td>\n",
       "      <td>2020-03-26T02:46:15.000</td>\n",
       "      <td>1</td>\n",
       "      <td>1.94</td>\n",
       "      <td>1</td>\n",
       "      <td>N</td>\n",
       "      <td>230</td>\n",
       "      <td>236</td>\n",
       "      <td>1</td>\n",
       "      <td>14</td>\n",
       "      <td>0</td>\n",
       "      <td>0.5</td>\n",
       "      <td>0</td>\n",
       "      <td>0</td>\n",
       "      <td>0.3</td>\n",
       "      <td>17.3</td>\n",
       "      <td>2.5</td>\n",
       "    </tr>\n",
       "    <tr>\n",
       "      <th>4</th>\n",
       "      <td>2</td>\n",
       "      <td>2020-04-16T03:06:17.000</td>\n",
       "      <td>2020-04-16T03:12:53.000</td>\n",
       "      <td>1</td>\n",
       "      <td>0.46</td>\n",
       "      <td>1</td>\n",
       "      <td>N</td>\n",
       "      <td>43</td>\n",
       "      <td>43</td>\n",
       "      <td>1</td>\n",
       "      <td>5.5</td>\n",
       "      <td>0</td>\n",
       "      <td>0.5</td>\n",
       "      <td>1.76</td>\n",
       "      <td>0</td>\n",
       "      <td>0.3</td>\n",
       "      <td>10.56</td>\n",
       "      <td>2.5</td>\n",
       "    </tr>\n",
       "  </tbody>\n",
       "</table>\n",
       "</div>"
      ],
      "text/plain": [
       "  vendorid     tpep_pickup_datetime    tpep_dropoff_datetime passenger_count  \\\n",
       "0        2  2020-03-16T06:17:14.000  2020-03-16T06:21:45.000               3   \n",
       "1        2  2020-03-04T10:12:32.000  2020-03-04T10:23:48.000               1   \n",
       "2        2  2020-03-25T18:51:29.000  2020-03-25T19:00:25.000               1   \n",
       "3        2  2020-03-25T19:24:19.000  2020-03-26T02:46:15.000               1   \n",
       "4        2  2020-04-16T03:06:17.000  2020-04-16T03:12:53.000               1   \n",
       "\n",
       "  trip_distance ratecodeid store_and_fwd_flag pulocationid dolocationid  \\\n",
       "0          1.21          1                  N           24          152   \n",
       "1          1.19          1                  N           43          161   \n",
       "2          0.86          1                  N           43          161   \n",
       "3          1.94          1                  N          230          236   \n",
       "4          0.46          1                  N           43           43   \n",
       "\n",
       "  payment_type fare_amount extra mta_tax tip_amount tolls_amount  \\\n",
       "0            1           6   0.5     0.5       1.46            0   \n",
       "1            1         8.5     0     0.5       3.54            0   \n",
       "2            1           7     0     0.5          1            0   \n",
       "3            1          14     0     0.5          0            0   \n",
       "4            1         5.5     0     0.5       1.76            0   \n",
       "\n",
       "  improvement_surcharge total_amount congestion_surcharge  \n",
       "0                   0.3         8.76                    0  \n",
       "1                   0.3        15.34                  2.5  \n",
       "2                   0.3         11.3                  2.5  \n",
       "3                   0.3         17.3                  2.5  \n",
       "4                   0.3        10.56                  2.5  "
      ]
     },
     "execution_count": 7,
     "metadata": {},
     "output_type": "execute_result"
    }
   ],
   "source": [
    "df_yellow.head()"
   ]
  },
  {
   "cell_type": "code",
   "execution_count": 8,
   "id": "instructional-queue",
   "metadata": {},
   "outputs": [
    {
     "data": {
      "text/plain": [
       "(3244828, 18)"
      ]
     },
     "execution_count": 8,
     "metadata": {},
     "output_type": "execute_result"
    }
   ],
   "source": [
    "df_yellow.shape"
   ]
  },
  {
   "cell_type": "code",
   "execution_count": 9,
   "id": "liable-consumption",
   "metadata": {},
   "outputs": [
    {
     "data": {
      "text/plain": [
       "vendorid                 object\n",
       "tpep_pickup_datetime     object\n",
       "tpep_dropoff_datetime    object\n",
       "passenger_count          object\n",
       "trip_distance            object\n",
       "ratecodeid               object\n",
       "store_and_fwd_flag       object\n",
       "pulocationid             object\n",
       "dolocationid             object\n",
       "payment_type             object\n",
       "fare_amount              object\n",
       "extra                    object\n",
       "mta_tax                  object\n",
       "tip_amount               object\n",
       "tolls_amount             object\n",
       "improvement_surcharge    object\n",
       "total_amount             object\n",
       "congestion_surcharge     object\n",
       "dtype: object"
      ]
     },
     "execution_count": 9,
     "metadata": {},
     "output_type": "execute_result"
    }
   ],
   "source": [
    "df_yellow.dtypes"
   ]
  },
  {
   "cell_type": "code",
   "execution_count": 17,
   "id": "saved-effectiveness",
   "metadata": {},
   "outputs": [],
   "source": [
    "df_yellow.to_csv('raw_yellow.csv')"
   ]
  },
  {
   "cell_type": "markdown",
   "id": "stupid-tucson",
   "metadata": {},
   "source": [
    "### Green Taxi"
   ]
  },
  {
   "cell_type": "markdown",
   "id": "golden-mainland",
   "metadata": {},
   "source": [
    "https://data.cityofnewyork.us/Transportation/2020-Green-Taxi-Trip-Data/pkmi-4kfn"
   ]
  },
  {
   "cell_type": "code",
   "execution_count": 10,
   "id": "broken-stomach",
   "metadata": {},
   "outputs": [],
   "source": [
    "# base url\n",
    "base_url_green = 'https://data.cityofnewyork.us/resource/pkmi-4kfn.json'"
   ]
  },
  {
   "cell_type": "code",
   "execution_count": 11,
   "id": "retired-healing",
   "metadata": {},
   "outputs": [],
   "source": [
    "# filter for March and April\n",
    "soql_filter_green = '?$where=date_extract_m(lpep_pickup_datetime) in (3, 4)'"
   ]
  },
  {
   "cell_type": "code",
   "execution_count": 12,
   "id": "optical-score",
   "metadata": {},
   "outputs": [
    {
     "name": "stdout",
     "output_type": "stream",
     "text": [
      "https://data.cityofnewyork.us/resource/pkmi-4kfn.json?$where=date_extract_m(lpep_pickup_datetime) in (3, 4)&$limit=100000000\n"
     ]
    }
   ],
   "source": [
    "# combine base url, filter, and limit\n",
    "final_url_green = base_url_green + soql_filter_green + '&' + limit\n",
    "print(final_url_green)"
   ]
  },
  {
   "cell_type": "code",
   "execution_count": 13,
   "id": "exterior-ecuador",
   "metadata": {},
   "outputs": [],
   "source": [
    "# retrieve the data \n",
    "request_green = requests.get(url=final_url_green)\n",
    "df_green = pd.DataFrame(request_green.json())"
   ]
  },
  {
   "cell_type": "code",
   "execution_count": 14,
   "id": "indonesian-resource",
   "metadata": {},
   "outputs": [
    {
     "data": {
      "text/html": [
       "<div>\n",
       "<style scoped>\n",
       "    .dataframe tbody tr th:only-of-type {\n",
       "        vertical-align: middle;\n",
       "    }\n",
       "\n",
       "    .dataframe tbody tr th {\n",
       "        vertical-align: top;\n",
       "    }\n",
       "\n",
       "    .dataframe thead th {\n",
       "        text-align: right;\n",
       "    }\n",
       "</style>\n",
       "<table border=\"1\" class=\"dataframe\">\n",
       "  <thead>\n",
       "    <tr style=\"text-align: right;\">\n",
       "      <th></th>\n",
       "      <th>vendorid</th>\n",
       "      <th>lpep_pickup_datetime</th>\n",
       "      <th>lpep_dropoff_datetime</th>\n",
       "      <th>store_and_fwd_flag</th>\n",
       "      <th>ratecodeid</th>\n",
       "      <th>pulocationid</th>\n",
       "      <th>dolocationid</th>\n",
       "      <th>passenger_count</th>\n",
       "      <th>trip_distance</th>\n",
       "      <th>fare_amount</th>\n",
       "      <th>extra</th>\n",
       "      <th>mta_tax</th>\n",
       "      <th>tip_amount</th>\n",
       "      <th>tolls_amount</th>\n",
       "      <th>improvement_surcharge</th>\n",
       "      <th>total_amount</th>\n",
       "      <th>payment_type</th>\n",
       "      <th>trip_type</th>\n",
       "      <th>congestion_surcharge</th>\n",
       "    </tr>\n",
       "  </thead>\n",
       "  <tbody>\n",
       "    <tr>\n",
       "      <th>0</th>\n",
       "      <td>2</td>\n",
       "      <td>2020-03-01T02:22:48.000</td>\n",
       "      <td>2020-03-01T02:28:48.000</td>\n",
       "      <td>N</td>\n",
       "      <td>1</td>\n",
       "      <td>260</td>\n",
       "      <td>83</td>\n",
       "      <td>1</td>\n",
       "      <td>1.12</td>\n",
       "      <td>6</td>\n",
       "      <td>0</td>\n",
       "      <td>0.5</td>\n",
       "      <td>0</td>\n",
       "      <td>0</td>\n",
       "      <td>0.3</td>\n",
       "      <td>6.8</td>\n",
       "      <td>2</td>\n",
       "      <td>1</td>\n",
       "      <td>0</td>\n",
       "    </tr>\n",
       "    <tr>\n",
       "      <th>1</th>\n",
       "      <td>2</td>\n",
       "      <td>2020-03-01T02:54:27.000</td>\n",
       "      <td>2020-03-01T03:01:25.000</td>\n",
       "      <td>N</td>\n",
       "      <td>1</td>\n",
       "      <td>173</td>\n",
       "      <td>129</td>\n",
       "      <td>1</td>\n",
       "      <td>1.29</td>\n",
       "      <td>7</td>\n",
       "      <td>0</td>\n",
       "      <td>0.5</td>\n",
       "      <td>1</td>\n",
       "      <td>0</td>\n",
       "      <td>0.3</td>\n",
       "      <td>8.8</td>\n",
       "      <td>1</td>\n",
       "      <td>1</td>\n",
       "      <td>0</td>\n",
       "    </tr>\n",
       "    <tr>\n",
       "      <th>2</th>\n",
       "      <td>2</td>\n",
       "      <td>2020-03-01T03:11:12.000</td>\n",
       "      <td>2020-03-01T03:33:04.000</td>\n",
       "      <td>N</td>\n",
       "      <td>1</td>\n",
       "      <td>129</td>\n",
       "      <td>75</td>\n",
       "      <td>1</td>\n",
       "      <td>6.85</td>\n",
       "      <td>22</td>\n",
       "      <td>0</td>\n",
       "      <td>0.5</td>\n",
       "      <td>0</td>\n",
       "      <td>0</td>\n",
       "      <td>0.3</td>\n",
       "      <td>25.55</td>\n",
       "      <td>2</td>\n",
       "      <td>1</td>\n",
       "      <td>2.75</td>\n",
       "    </tr>\n",
       "    <tr>\n",
       "      <th>3</th>\n",
       "      <td>2</td>\n",
       "      <td>2020-03-01T04:06:43.000</td>\n",
       "      <td>2020-03-01T04:09:53.000</td>\n",
       "      <td>N</td>\n",
       "      <td>1</td>\n",
       "      <td>7</td>\n",
       "      <td>7</td>\n",
       "      <td>1</td>\n",
       "      <td>0.64</td>\n",
       "      <td>4</td>\n",
       "      <td>0</td>\n",
       "      <td>0.5</td>\n",
       "      <td>0</td>\n",
       "      <td>0</td>\n",
       "      <td>0.3</td>\n",
       "      <td>4.8</td>\n",
       "      <td>2</td>\n",
       "      <td>1</td>\n",
       "      <td>0</td>\n",
       "    </tr>\n",
       "    <tr>\n",
       "      <th>4</th>\n",
       "      <td>2</td>\n",
       "      <td>2020-03-01T04:28:50.000</td>\n",
       "      <td>2020-03-01T04:33:35.000</td>\n",
       "      <td>N</td>\n",
       "      <td>1</td>\n",
       "      <td>7</td>\n",
       "      <td>7</td>\n",
       "      <td>1</td>\n",
       "      <td>0.58</td>\n",
       "      <td>5</td>\n",
       "      <td>0</td>\n",
       "      <td>0.5</td>\n",
       "      <td>0</td>\n",
       "      <td>0</td>\n",
       "      <td>0.3</td>\n",
       "      <td>5.8</td>\n",
       "      <td>2</td>\n",
       "      <td>1</td>\n",
       "      <td>0</td>\n",
       "    </tr>\n",
       "  </tbody>\n",
       "</table>\n",
       "</div>"
      ],
      "text/plain": [
       "  vendorid     lpep_pickup_datetime    lpep_dropoff_datetime  \\\n",
       "0        2  2020-03-01T02:22:48.000  2020-03-01T02:28:48.000   \n",
       "1        2  2020-03-01T02:54:27.000  2020-03-01T03:01:25.000   \n",
       "2        2  2020-03-01T03:11:12.000  2020-03-01T03:33:04.000   \n",
       "3        2  2020-03-01T04:06:43.000  2020-03-01T04:09:53.000   \n",
       "4        2  2020-03-01T04:28:50.000  2020-03-01T04:33:35.000   \n",
       "\n",
       "  store_and_fwd_flag ratecodeid pulocationid dolocationid passenger_count  \\\n",
       "0                  N          1          260           83               1   \n",
       "1                  N          1          173          129               1   \n",
       "2                  N          1          129           75               1   \n",
       "3                  N          1            7            7               1   \n",
       "4                  N          1            7            7               1   \n",
       "\n",
       "  trip_distance fare_amount extra mta_tax tip_amount tolls_amount  \\\n",
       "0          1.12           6     0     0.5          0            0   \n",
       "1          1.29           7     0     0.5          1            0   \n",
       "2          6.85          22     0     0.5          0            0   \n",
       "3          0.64           4     0     0.5          0            0   \n",
       "4          0.58           5     0     0.5          0            0   \n",
       "\n",
       "  improvement_surcharge total_amount payment_type trip_type  \\\n",
       "0                   0.3          6.8            2         1   \n",
       "1                   0.3          8.8            1         1   \n",
       "2                   0.3        25.55            2         1   \n",
       "3                   0.3          4.8            2         1   \n",
       "4                   0.3          5.8            2         1   \n",
       "\n",
       "  congestion_surcharge  \n",
       "0                    0  \n",
       "1                    0  \n",
       "2                 2.75  \n",
       "3                    0  \n",
       "4                    0  "
      ]
     },
     "execution_count": 14,
     "metadata": {},
     "output_type": "execute_result"
    }
   ],
   "source": [
    "df_green.head()"
   ]
  },
  {
   "cell_type": "code",
   "execution_count": 15,
   "id": "usual-disposal",
   "metadata": {},
   "outputs": [
    {
     "data": {
      "text/plain": [
       "(259007, 19)"
      ]
     },
     "execution_count": 15,
     "metadata": {},
     "output_type": "execute_result"
    }
   ],
   "source": [
    "df_green.shape"
   ]
  },
  {
   "cell_type": "code",
   "execution_count": 16,
   "id": "breeding-drive",
   "metadata": {},
   "outputs": [
    {
     "data": {
      "text/plain": [
       "vendorid                 object\n",
       "lpep_pickup_datetime     object\n",
       "lpep_dropoff_datetime    object\n",
       "store_and_fwd_flag       object\n",
       "ratecodeid               object\n",
       "pulocationid             object\n",
       "dolocationid             object\n",
       "passenger_count          object\n",
       "trip_distance            object\n",
       "fare_amount              object\n",
       "extra                    object\n",
       "mta_tax                  object\n",
       "tip_amount               object\n",
       "tolls_amount             object\n",
       "improvement_surcharge    object\n",
       "total_amount             object\n",
       "payment_type             object\n",
       "trip_type                object\n",
       "congestion_surcharge     object\n",
       "dtype: object"
      ]
     },
     "execution_count": 16,
     "metadata": {},
     "output_type": "execute_result"
    }
   ],
   "source": [
    "df_green.dtypes"
   ]
  },
  {
   "cell_type": "code",
   "execution_count": 18,
   "id": "suitable-split",
   "metadata": {},
   "outputs": [],
   "source": [
    "df_green.to_csv('raw_green.csv')"
   ]
  },
  {
   "cell_type": "markdown",
   "id": "directed-particular",
   "metadata": {},
   "source": [
    "### Data Cleaning"
   ]
  },
  {
   "cell_type": "code",
   "execution_count": 18,
   "id": "organized-sunglasses",
   "metadata": {},
   "outputs": [],
   "source": [
    "# add taxi type\n",
    "df_yellow['type'] = 'yellow'\n",
    "df_green['type'] = 'green'"
   ]
  },
  {
   "cell_type": "code",
   "execution_count": 26,
   "id": "national-terrorist",
   "metadata": {},
   "outputs": [
    {
     "data": {
      "text/html": [
       "<div>\n",
       "<style scoped>\n",
       "    .dataframe tbody tr th:only-of-type {\n",
       "        vertical-align: middle;\n",
       "    }\n",
       "\n",
       "    .dataframe tbody tr th {\n",
       "        vertical-align: top;\n",
       "    }\n",
       "\n",
       "    .dataframe thead th {\n",
       "        text-align: right;\n",
       "    }\n",
       "</style>\n",
       "<table border=\"1\" class=\"dataframe\">\n",
       "  <thead>\n",
       "    <tr style=\"text-align: right;\">\n",
       "      <th></th>\n",
       "      <th>pickup_datetime</th>\n",
       "      <th>dropoff_datetime</th>\n",
       "      <th>pulocationid</th>\n",
       "      <th>dolocationid</th>\n",
       "      <th>type</th>\n",
       "    </tr>\n",
       "  </thead>\n",
       "  <tbody>\n",
       "    <tr>\n",
       "      <th>0</th>\n",
       "      <td>2020-01-01T00:28:15.000</td>\n",
       "      <td>2020-01-01T00:33:03.000</td>\n",
       "      <td>238</td>\n",
       "      <td>239</td>\n",
       "      <td>yellow</td>\n",
       "    </tr>\n",
       "    <tr>\n",
       "      <th>1</th>\n",
       "      <td>2020-01-01T00:35:39.000</td>\n",
       "      <td>2020-01-01T00:43:04.000</td>\n",
       "      <td>239</td>\n",
       "      <td>238</td>\n",
       "      <td>yellow</td>\n",
       "    </tr>\n",
       "    <tr>\n",
       "      <th>2</th>\n",
       "      <td>2020-01-01T00:47:41.000</td>\n",
       "      <td>2020-01-01T00:53:52.000</td>\n",
       "      <td>238</td>\n",
       "      <td>238</td>\n",
       "      <td>yellow</td>\n",
       "    </tr>\n",
       "    <tr>\n",
       "      <th>3</th>\n",
       "      <td>2020-01-01T00:55:23.000</td>\n",
       "      <td>2020-01-01T01:00:14.000</td>\n",
       "      <td>238</td>\n",
       "      <td>151</td>\n",
       "      <td>yellow</td>\n",
       "    </tr>\n",
       "    <tr>\n",
       "      <th>4</th>\n",
       "      <td>2020-01-01T00:01:58.000</td>\n",
       "      <td>2020-01-01T00:04:16.000</td>\n",
       "      <td>193</td>\n",
       "      <td>193</td>\n",
       "      <td>yellow</td>\n",
       "    </tr>\n",
       "  </tbody>\n",
       "</table>\n",
       "</div>"
      ],
      "text/plain": [
       "           pickup_datetime         dropoff_datetime pulocationid dolocationid  \\\n",
       "0  2020-01-01T00:28:15.000  2020-01-01T00:33:03.000          238          239   \n",
       "1  2020-01-01T00:35:39.000  2020-01-01T00:43:04.000          239          238   \n",
       "2  2020-01-01T00:47:41.000  2020-01-01T00:53:52.000          238          238   \n",
       "3  2020-01-01T00:55:23.000  2020-01-01T01:00:14.000          238          151   \n",
       "4  2020-01-01T00:01:58.000  2020-01-01T00:04:16.000          193          193   \n",
       "\n",
       "     type  \n",
       "0  yellow  \n",
       "1  yellow  \n",
       "2  yellow  \n",
       "3  yellow  \n",
       "4  yellow  "
      ]
     },
     "execution_count": 26,
     "metadata": {},
     "output_type": "execute_result"
    }
   ],
   "source": [
    "df_yellow_base = df_yellow[['tpep_pickup_datetime', 'tpep_dropoff_datetime', 'pulocationid', 'dolocationid', 'type']]\\\n",
    "                 .rename(columns={'tpep_pickup_datetime': 'pickup_datetime', 'tpep_dropoff_datetime': 'dropoff_datetime'})\n",
    "df_yellow_base.head()"
   ]
  },
  {
   "cell_type": "code",
   "execution_count": 33,
   "id": "pressing-hormone",
   "metadata": {},
   "outputs": [
    {
     "data": {
      "text/plain": [
       "(16847655, 5)"
      ]
     },
     "execution_count": 33,
     "metadata": {},
     "output_type": "execute_result"
    }
   ],
   "source": [
    "df_yellow_base.shape"
   ]
  },
  {
   "cell_type": "code",
   "execution_count": 27,
   "id": "ethical-powell",
   "metadata": {},
   "outputs": [
    {
     "data": {
      "text/html": [
       "<div>\n",
       "<style scoped>\n",
       "    .dataframe tbody tr th:only-of-type {\n",
       "        vertical-align: middle;\n",
       "    }\n",
       "\n",
       "    .dataframe tbody tr th {\n",
       "        vertical-align: top;\n",
       "    }\n",
       "\n",
       "    .dataframe thead th {\n",
       "        text-align: right;\n",
       "    }\n",
       "</style>\n",
       "<table border=\"1\" class=\"dataframe\">\n",
       "  <thead>\n",
       "    <tr style=\"text-align: right;\">\n",
       "      <th></th>\n",
       "      <th>pickup_datetime</th>\n",
       "      <th>dropoff_datetime</th>\n",
       "      <th>pulocationid</th>\n",
       "      <th>dolocationid</th>\n",
       "      <th>type</th>\n",
       "    </tr>\n",
       "  </thead>\n",
       "  <tbody>\n",
       "    <tr>\n",
       "      <th>0</th>\n",
       "      <td>2020-01-01T00:45:58.000</td>\n",
       "      <td>2020-01-01T00:56:39.000</td>\n",
       "      <td>66</td>\n",
       "      <td>65</td>\n",
       "      <td>green</td>\n",
       "    </tr>\n",
       "    <tr>\n",
       "      <th>1</th>\n",
       "      <td>2020-01-01T00:41:38.000</td>\n",
       "      <td>2020-01-01T00:52:49.000</td>\n",
       "      <td>181</td>\n",
       "      <td>228</td>\n",
       "      <td>green</td>\n",
       "    </tr>\n",
       "    <tr>\n",
       "      <th>2</th>\n",
       "      <td>2020-01-01T00:52:46.000</td>\n",
       "      <td>2020-01-01T01:14:21.000</td>\n",
       "      <td>129</td>\n",
       "      <td>263</td>\n",
       "      <td>green</td>\n",
       "    </tr>\n",
       "    <tr>\n",
       "      <th>3</th>\n",
       "      <td>2020-01-01T00:19:57.000</td>\n",
       "      <td>2020-01-01T00:30:56.000</td>\n",
       "      <td>210</td>\n",
       "      <td>150</td>\n",
       "      <td>green</td>\n",
       "    </tr>\n",
       "    <tr>\n",
       "      <th>4</th>\n",
       "      <td>2020-01-01T00:52:33.000</td>\n",
       "      <td>2020-01-01T01:09:54.000</td>\n",
       "      <td>35</td>\n",
       "      <td>39</td>\n",
       "      <td>green</td>\n",
       "    </tr>\n",
       "  </tbody>\n",
       "</table>\n",
       "</div>"
      ],
      "text/plain": [
       "           pickup_datetime         dropoff_datetime pulocationid dolocationid  \\\n",
       "0  2020-01-01T00:45:58.000  2020-01-01T00:56:39.000           66           65   \n",
       "1  2020-01-01T00:41:38.000  2020-01-01T00:52:49.000          181          228   \n",
       "2  2020-01-01T00:52:46.000  2020-01-01T01:14:21.000          129          263   \n",
       "3  2020-01-01T00:19:57.000  2020-01-01T00:30:56.000          210          150   \n",
       "4  2020-01-01T00:52:33.000  2020-01-01T01:09:54.000           35           39   \n",
       "\n",
       "    type  \n",
       "0  green  \n",
       "1  green  \n",
       "2  green  \n",
       "3  green  \n",
       "4  green  "
      ]
     },
     "execution_count": 27,
     "metadata": {},
     "output_type": "execute_result"
    }
   ],
   "source": [
    "df_green_base = df_green[['lpep_pickup_datetime', 'lpep_dropoff_datetime', 'pulocationid', 'dolocationid', 'type']]\\\n",
    "                 .rename(columns={'lpep_pickup_datetime': 'pickup_datetime', 'lpep_dropoff_datetime': 'dropoff_datetime'})\n",
    "df_green_base.head()"
   ]
  },
  {
   "cell_type": "code",
   "execution_count": 32,
   "id": "ordinary-assembly",
   "metadata": {},
   "outputs": [
    {
     "data": {
      "text/plain": [
       "(1225873, 5)"
      ]
     },
     "execution_count": 32,
     "metadata": {},
     "output_type": "execute_result"
    }
   ],
   "source": [
    "df_green_base.shape"
   ]
  },
  {
   "cell_type": "code",
   "execution_count": 37,
   "id": "cultural-charm",
   "metadata": {},
   "outputs": [],
   "source": [
    "df_taxi = pd.concat([df_yellow_base, df_green_base], axis=0)"
   ]
  },
  {
   "cell_type": "code",
   "execution_count": 38,
   "id": "periodic-season",
   "metadata": {},
   "outputs": [
    {
     "data": {
      "text/html": [
       "<div>\n",
       "<style scoped>\n",
       "    .dataframe tbody tr th:only-of-type {\n",
       "        vertical-align: middle;\n",
       "    }\n",
       "\n",
       "    .dataframe tbody tr th {\n",
       "        vertical-align: top;\n",
       "    }\n",
       "\n",
       "    .dataframe thead th {\n",
       "        text-align: right;\n",
       "    }\n",
       "</style>\n",
       "<table border=\"1\" class=\"dataframe\">\n",
       "  <thead>\n",
       "    <tr style=\"text-align: right;\">\n",
       "      <th></th>\n",
       "      <th>pickup_datetime</th>\n",
       "      <th>dropoff_datetime</th>\n",
       "      <th>pulocationid</th>\n",
       "      <th>dolocationid</th>\n",
       "      <th>type</th>\n",
       "    </tr>\n",
       "  </thead>\n",
       "  <tbody>\n",
       "    <tr>\n",
       "      <th>0</th>\n",
       "      <td>2020-01-01T00:28:15.000</td>\n",
       "      <td>2020-01-01T00:33:03.000</td>\n",
       "      <td>238</td>\n",
       "      <td>239</td>\n",
       "      <td>yellow</td>\n",
       "    </tr>\n",
       "    <tr>\n",
       "      <th>1</th>\n",
       "      <td>2020-01-01T00:35:39.000</td>\n",
       "      <td>2020-01-01T00:43:04.000</td>\n",
       "      <td>239</td>\n",
       "      <td>238</td>\n",
       "      <td>yellow</td>\n",
       "    </tr>\n",
       "    <tr>\n",
       "      <th>2</th>\n",
       "      <td>2020-01-01T00:47:41.000</td>\n",
       "      <td>2020-01-01T00:53:52.000</td>\n",
       "      <td>238</td>\n",
       "      <td>238</td>\n",
       "      <td>yellow</td>\n",
       "    </tr>\n",
       "    <tr>\n",
       "      <th>3</th>\n",
       "      <td>2020-01-01T00:55:23.000</td>\n",
       "      <td>2020-01-01T01:00:14.000</td>\n",
       "      <td>238</td>\n",
       "      <td>151</td>\n",
       "      <td>yellow</td>\n",
       "    </tr>\n",
       "    <tr>\n",
       "      <th>4</th>\n",
       "      <td>2020-01-01T00:01:58.000</td>\n",
       "      <td>2020-01-01T00:04:16.000</td>\n",
       "      <td>193</td>\n",
       "      <td>193</td>\n",
       "      <td>yellow</td>\n",
       "    </tr>\n",
       "  </tbody>\n",
       "</table>\n",
       "</div>"
      ],
      "text/plain": [
       "           pickup_datetime         dropoff_datetime pulocationid dolocationid  \\\n",
       "0  2020-01-01T00:28:15.000  2020-01-01T00:33:03.000          238          239   \n",
       "1  2020-01-01T00:35:39.000  2020-01-01T00:43:04.000          239          238   \n",
       "2  2020-01-01T00:47:41.000  2020-01-01T00:53:52.000          238          238   \n",
       "3  2020-01-01T00:55:23.000  2020-01-01T01:00:14.000          238          151   \n",
       "4  2020-01-01T00:01:58.000  2020-01-01T00:04:16.000          193          193   \n",
       "\n",
       "     type  \n",
       "0  yellow  \n",
       "1  yellow  \n",
       "2  yellow  \n",
       "3  yellow  \n",
       "4  yellow  "
      ]
     },
     "execution_count": 38,
     "metadata": {},
     "output_type": "execute_result"
    }
   ],
   "source": [
    "df_taxi.head()"
   ]
  },
  {
   "cell_type": "code",
   "execution_count": 39,
   "id": "blond-database",
   "metadata": {},
   "outputs": [
    {
     "data": {
      "text/plain": [
       "(18073528, 5)"
      ]
     },
     "execution_count": 39,
     "metadata": {},
     "output_type": "execute_result"
    }
   ],
   "source": [
    "df_taxi.shape"
   ]
  },
  {
   "cell_type": "code",
   "execution_count": 40,
   "id": "detailed-bloom",
   "metadata": {},
   "outputs": [],
   "source": [
    "df_taxi['pickup_datetime'] = pd.to_datetime(df_taxi['pickup_datetime'])\n",
    "df_taxi['dropoff_datettime'] = pd.to_datetime(df_taxi['dropoff_datetime'])"
   ]
  },
  {
   "cell_type": "code",
   "execution_count": 42,
   "id": "saved-kruger",
   "metadata": {},
   "outputs": [],
   "source": [
    "df_taxi['pu_year'] = df_taxi['pickup_datetime'].dt.year\n",
    "df_taxi['pu_month'] = df_taxi['pickup_datetime'].dt.month\n",
    "df_taxi['pu_day'] = df_taxi['pickup_datetime'].dt.day\n",
    "df_taxi['pu_hour'] = df_taxi['pickup_datetime'].dt.hour"
   ]
  },
  {
   "cell_type": "code",
   "execution_count": 43,
   "id": "substantial-express",
   "metadata": {},
   "outputs": [
    {
     "data": {
      "text/html": [
       "<div>\n",
       "<style scoped>\n",
       "    .dataframe tbody tr th:only-of-type {\n",
       "        vertical-align: middle;\n",
       "    }\n",
       "\n",
       "    .dataframe tbody tr th {\n",
       "        vertical-align: top;\n",
       "    }\n",
       "\n",
       "    .dataframe thead th {\n",
       "        text-align: right;\n",
       "    }\n",
       "</style>\n",
       "<table border=\"1\" class=\"dataframe\">\n",
       "  <thead>\n",
       "    <tr style=\"text-align: right;\">\n",
       "      <th></th>\n",
       "      <th>pickup_datetime</th>\n",
       "      <th>dropoff_datetime</th>\n",
       "      <th>pulocationid</th>\n",
       "      <th>dolocationid</th>\n",
       "      <th>type</th>\n",
       "      <th>dropoff_datettime</th>\n",
       "      <th>pu_year</th>\n",
       "      <th>pu_month</th>\n",
       "      <th>pu_day</th>\n",
       "      <th>pu_hour</th>\n",
       "    </tr>\n",
       "  </thead>\n",
       "  <tbody>\n",
       "    <tr>\n",
       "      <th>0</th>\n",
       "      <td>2020-01-01 00:28:15</td>\n",
       "      <td>2020-01-01T00:33:03.000</td>\n",
       "      <td>238</td>\n",
       "      <td>239</td>\n",
       "      <td>yellow</td>\n",
       "      <td>2020-01-01 00:33:03</td>\n",
       "      <td>2020</td>\n",
       "      <td>1</td>\n",
       "      <td>1</td>\n",
       "      <td>0</td>\n",
       "    </tr>\n",
       "    <tr>\n",
       "      <th>1</th>\n",
       "      <td>2020-01-01 00:35:39</td>\n",
       "      <td>2020-01-01T00:43:04.000</td>\n",
       "      <td>239</td>\n",
       "      <td>238</td>\n",
       "      <td>yellow</td>\n",
       "      <td>2020-01-01 00:43:04</td>\n",
       "      <td>2020</td>\n",
       "      <td>1</td>\n",
       "      <td>1</td>\n",
       "      <td>0</td>\n",
       "    </tr>\n",
       "    <tr>\n",
       "      <th>2</th>\n",
       "      <td>2020-01-01 00:47:41</td>\n",
       "      <td>2020-01-01T00:53:52.000</td>\n",
       "      <td>238</td>\n",
       "      <td>238</td>\n",
       "      <td>yellow</td>\n",
       "      <td>2020-01-01 00:53:52</td>\n",
       "      <td>2020</td>\n",
       "      <td>1</td>\n",
       "      <td>1</td>\n",
       "      <td>0</td>\n",
       "    </tr>\n",
       "    <tr>\n",
       "      <th>3</th>\n",
       "      <td>2020-01-01 00:55:23</td>\n",
       "      <td>2020-01-01T01:00:14.000</td>\n",
       "      <td>238</td>\n",
       "      <td>151</td>\n",
       "      <td>yellow</td>\n",
       "      <td>2020-01-01 01:00:14</td>\n",
       "      <td>2020</td>\n",
       "      <td>1</td>\n",
       "      <td>1</td>\n",
       "      <td>0</td>\n",
       "    </tr>\n",
       "    <tr>\n",
       "      <th>4</th>\n",
       "      <td>2020-01-01 00:01:58</td>\n",
       "      <td>2020-01-01T00:04:16.000</td>\n",
       "      <td>193</td>\n",
       "      <td>193</td>\n",
       "      <td>yellow</td>\n",
       "      <td>2020-01-01 00:04:16</td>\n",
       "      <td>2020</td>\n",
       "      <td>1</td>\n",
       "      <td>1</td>\n",
       "      <td>0</td>\n",
       "    </tr>\n",
       "  </tbody>\n",
       "</table>\n",
       "</div>"
      ],
      "text/plain": [
       "      pickup_datetime         dropoff_datetime pulocationid dolocationid  \\\n",
       "0 2020-01-01 00:28:15  2020-01-01T00:33:03.000          238          239   \n",
       "1 2020-01-01 00:35:39  2020-01-01T00:43:04.000          239          238   \n",
       "2 2020-01-01 00:47:41  2020-01-01T00:53:52.000          238          238   \n",
       "3 2020-01-01 00:55:23  2020-01-01T01:00:14.000          238          151   \n",
       "4 2020-01-01 00:01:58  2020-01-01T00:04:16.000          193          193   \n",
       "\n",
       "     type   dropoff_datettime  pu_year  pu_month  pu_day  pu_hour  \n",
       "0  yellow 2020-01-01 00:33:03     2020         1       1        0  \n",
       "1  yellow 2020-01-01 00:43:04     2020         1       1        0  \n",
       "2  yellow 2020-01-01 00:53:52     2020         1       1        0  \n",
       "3  yellow 2020-01-01 01:00:14     2020         1       1        0  \n",
       "4  yellow 2020-01-01 00:04:16     2020         1       1        0  "
      ]
     },
     "execution_count": 43,
     "metadata": {},
     "output_type": "execute_result"
    }
   ],
   "source": [
    "df_taxi.head()"
   ]
  },
  {
   "cell_type": "markdown",
   "id": "minute-darkness",
   "metadata": {},
   "source": [
    "### Trip Count"
   ]
  },
  {
   "cell_type": "code",
   "execution_count": 54,
   "id": "fatty-heaven",
   "metadata": {},
   "outputs": [
    {
     "data": {
      "text/html": [
       "<div>\n",
       "<style scoped>\n",
       "    .dataframe tbody tr th:only-of-type {\n",
       "        vertical-align: middle;\n",
       "    }\n",
       "\n",
       "    .dataframe tbody tr th {\n",
       "        vertical-align: top;\n",
       "    }\n",
       "\n",
       "    .dataframe thead th {\n",
       "        text-align: right;\n",
       "    }\n",
       "</style>\n",
       "<table border=\"1\" class=\"dataframe\">\n",
       "  <thead>\n",
       "    <tr style=\"text-align: right;\">\n",
       "      <th></th>\n",
       "      <th></th>\n",
       "      <th></th>\n",
       "      <th></th>\n",
       "      <th></th>\n",
       "      <th>trips</th>\n",
       "    </tr>\n",
       "    <tr>\n",
       "      <th>type</th>\n",
       "      <th>pu_month</th>\n",
       "      <th>pu_day</th>\n",
       "      <th>pu_hour</th>\n",
       "      <th>pulocationid</th>\n",
       "      <th></th>\n",
       "    </tr>\n",
       "  </thead>\n",
       "  <tbody>\n",
       "    <tr>\n",
       "      <th rowspan=\"5\" valign=\"top\">green</th>\n",
       "      <th rowspan=\"5\" valign=\"top\">1</th>\n",
       "      <th rowspan=\"5\" valign=\"top\">1</th>\n",
       "      <th rowspan=\"5\" valign=\"top\">0</th>\n",
       "      <th>106</th>\n",
       "      <td>1</td>\n",
       "    </tr>\n",
       "    <tr>\n",
       "      <th>112</th>\n",
       "      <td>18</td>\n",
       "    </tr>\n",
       "    <tr>\n",
       "      <th>116</th>\n",
       "      <td>19</td>\n",
       "    </tr>\n",
       "    <tr>\n",
       "      <th>119</th>\n",
       "      <td>4</td>\n",
       "    </tr>\n",
       "    <tr>\n",
       "      <th>122</th>\n",
       "      <td>2</td>\n",
       "    </tr>\n",
       "  </tbody>\n",
       "</table>\n",
       "</div>"
      ],
      "text/plain": [
       "                                            trips\n",
       "type  pu_month pu_day pu_hour pulocationid       \n",
       "green 1        1      0       106               1\n",
       "                              112              18\n",
       "                              116              19\n",
       "                              119               4\n",
       "                              122               2"
      ]
     },
     "execution_count": 54,
     "metadata": {},
     "output_type": "execute_result"
    }
   ],
   "source": [
    "df_agg_pu = df_taxi.groupby(['type', 'pu_month', 'pu_day', 'pu_hour', 'pulocationid']).agg({'pickup_datetime': 'count'}).rename(columns={'pickup_datetime': 'trips'})\n",
    "df_agg_pu.head()"
   ]
  },
  {
   "cell_type": "code",
   "execution_count": 55,
   "id": "loaded-queensland",
   "metadata": {},
   "outputs": [
    {
     "data": {
      "text/html": [
       "<div>\n",
       "<style scoped>\n",
       "    .dataframe tbody tr th:only-of-type {\n",
       "        vertical-align: middle;\n",
       "    }\n",
       "\n",
       "    .dataframe tbody tr th {\n",
       "        vertical-align: top;\n",
       "    }\n",
       "\n",
       "    .dataframe thead th {\n",
       "        text-align: right;\n",
       "    }\n",
       "</style>\n",
       "<table border=\"1\" class=\"dataframe\">\n",
       "  <thead>\n",
       "    <tr style=\"text-align: right;\">\n",
       "      <th></th>\n",
       "      <th></th>\n",
       "      <th></th>\n",
       "      <th></th>\n",
       "      <th></th>\n",
       "      <th>trips</th>\n",
       "    </tr>\n",
       "    <tr>\n",
       "      <th>type</th>\n",
       "      <th>pu_month</th>\n",
       "      <th>pu_day</th>\n",
       "      <th>pu_hour</th>\n",
       "      <th>dolocationid</th>\n",
       "      <th></th>\n",
       "    </tr>\n",
       "  </thead>\n",
       "  <tbody>\n",
       "    <tr>\n",
       "      <th rowspan=\"5\" valign=\"top\">green</th>\n",
       "      <th rowspan=\"5\" valign=\"top\">1</th>\n",
       "      <th rowspan=\"5\" valign=\"top\">1</th>\n",
       "      <th rowspan=\"5\" valign=\"top\">0</th>\n",
       "      <th>10</th>\n",
       "      <td>4</td>\n",
       "    </tr>\n",
       "    <tr>\n",
       "      <th>101</th>\n",
       "      <td>1</td>\n",
       "    </tr>\n",
       "    <tr>\n",
       "      <th>102</th>\n",
       "      <td>1</td>\n",
       "    </tr>\n",
       "    <tr>\n",
       "      <th>106</th>\n",
       "      <td>3</td>\n",
       "    </tr>\n",
       "    <tr>\n",
       "      <th>107</th>\n",
       "      <td>6</td>\n",
       "    </tr>\n",
       "  </tbody>\n",
       "</table>\n",
       "</div>"
      ],
      "text/plain": [
       "                                            trips\n",
       "type  pu_month pu_day pu_hour dolocationid       \n",
       "green 1        1      0       10                4\n",
       "                              101               1\n",
       "                              102               1\n",
       "                              106               3\n",
       "                              107               6"
      ]
     },
     "execution_count": 55,
     "metadata": {},
     "output_type": "execute_result"
    }
   ],
   "source": [
    "df_agg_do = df_taxi.groupby(['type', 'pu_month', 'pu_day', 'pu_hour', 'dolocationid']).agg({'dropoff_datetime': 'count'}).rename(columns={'dropoff_datetime': 'trips'})\n",
    "df_agg_do.head()"
   ]
  },
  {
   "cell_type": "code",
   "execution_count": 56,
   "id": "registered-chinese",
   "metadata": {},
   "outputs": [
    {
     "data": {
      "text/plain": [
       "(717432, 1)"
      ]
     },
     "execution_count": 56,
     "metadata": {},
     "output_type": "execute_result"
    }
   ],
   "source": [
    "df_agg_pu.shape"
   ]
  },
  {
   "cell_type": "code",
   "execution_count": 57,
   "id": "martial-robert",
   "metadata": {},
   "outputs": [
    {
     "data": {
      "text/plain": [
       "(986494, 1)"
      ]
     },
     "execution_count": 57,
     "metadata": {},
     "output_type": "execute_result"
    }
   ],
   "source": [
    "df_agg_do.shape"
   ]
  },
  {
   "cell_type": "code",
   "execution_count": 58,
   "id": "caroline-italy",
   "metadata": {},
   "outputs": [],
   "source": [
    "df_agg_pu.to_csv('taxi_pickup.csv')"
   ]
  },
  {
   "cell_type": "code",
   "execution_count": 59,
   "id": "polish-resolution",
   "metadata": {},
   "outputs": [],
   "source": [
    "df_agg_do.to_csv('taxi_dropoff.csv')"
   ]
  },
  {
   "cell_type": "code",
   "execution_count": null,
   "id": "sapphire-telling",
   "metadata": {},
   "outputs": [],
   "source": []
  }
 ],
 "metadata": {
  "kernelspec": {
   "display_name": "Python 3",
   "language": "python",
   "name": "python3"
  },
  "language_info": {
   "codemirror_mode": {
    "name": "ipython",
    "version": 3
   },
   "file_extension": ".py",
   "mimetype": "text/x-python",
   "name": "python",
   "nbconvert_exporter": "python",
   "pygments_lexer": "ipython3",
   "version": "3.9.1"
  }
 },
 "nbformat": 4,
 "nbformat_minor": 5
}
