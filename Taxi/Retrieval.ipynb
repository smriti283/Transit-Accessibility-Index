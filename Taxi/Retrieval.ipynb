{
 "cells": [
  {
   "cell_type": "code",
   "execution_count": 1,
   "id": "discrete-alcohol",
   "metadata": {},
   "outputs": [],
   "source": [
    "import pandas as pd\n",
    "import requests"
   ]
  },
  {
   "cell_type": "code",
   "execution_count": 2,
   "id": "anticipated-temple",
   "metadata": {},
   "outputs": [],
   "source": [
    "# API: default is 1000\n",
    "limit = '$limit=100000000'"
   ]
  },
  {
   "cell_type": "markdown",
   "id": "limited-somewhere",
   "metadata": {},
   "source": [
    "### Yellow Taxi 2019"
   ]
  },
  {
   "cell_type": "markdown",
   "id": "smart-cathedral",
   "metadata": {},
   "source": [
    "https://data.cityofnewyork.us/Transportation/2019-Yellow-Taxi-Trip-Data/2upf-qytp"
   ]
  },
  {
   "cell_type": "code",
   "execution_count": 7,
   "id": "facial-buddy",
   "metadata": {},
   "outputs": [],
   "source": [
    "# base url\n",
    "base_url_yellow = 'https://data.cityofnewyork.us/resource/2upf-qytp.json'"
   ]
  },
  {
   "cell_type": "code",
   "execution_count": 26,
   "id": "still-burden",
   "metadata": {},
   "outputs": [],
   "source": [
    "# SQL\n",
    "soql_filter_yellow = '?$select=date_trunc_ymd(tpep_pickup_datetime) AS PUDate,PULocationID,COUNT(PULocationID) AS Trips\\\n",
    "                       &$group=date_trunc_ymd(tpep_pickup_datetime),PULocationID'"
   ]
  },
  {
   "cell_type": "code",
   "execution_count": 27,
   "id": "aggressive-liverpool",
   "metadata": {},
   "outputs": [
    {
     "name": "stdout",
     "output_type": "stream",
     "text": [
      "https://data.cityofnewyork.us/resource/2upf-qytp.json?$select=date_trunc_ymd(tpep_pickup_datetime) AS PUDate,PULocationID,COUNT(PULocationID) AS Trips                       &$group=date_trunc_ymd(tpep_pickup_datetime),PULocationID&$limit=100000000\n"
     ]
    }
   ],
   "source": [
    "# combine base url, filter, and limit\n",
    "final_url_yellow = base_url_yellow + soql_filter_yellow + '&' + limit\n",
    "print(final_url_yellow)"
   ]
  },
  {
   "cell_type": "code",
   "execution_count": 28,
   "id": "banned-position",
   "metadata": {},
   "outputs": [],
   "source": [
    "# retrieve the data \n",
    "request_yellow = requests.get(url=final_url_yellow)\n",
    "df_yellow = pd.DataFrame(request_yellow.json())"
   ]
  },
  {
   "cell_type": "code",
   "execution_count": 29,
   "id": "headed-pickup",
   "metadata": {},
   "outputs": [
    {
     "data": {
      "text/html": [
       "<div>\n",
       "<style scoped>\n",
       "    .dataframe tbody tr th:only-of-type {\n",
       "        vertical-align: middle;\n",
       "    }\n",
       "\n",
       "    .dataframe tbody tr th {\n",
       "        vertical-align: top;\n",
       "    }\n",
       "\n",
       "    .dataframe thead th {\n",
       "        text-align: right;\n",
       "    }\n",
       "</style>\n",
       "<table border=\"1\" class=\"dataframe\">\n",
       "  <thead>\n",
       "    <tr style=\"text-align: right;\">\n",
       "      <th></th>\n",
       "      <th>PUDate</th>\n",
       "      <th>PULocationID</th>\n",
       "      <th>Trips</th>\n",
       "    </tr>\n",
       "  </thead>\n",
       "  <tbody>\n",
       "    <tr>\n",
       "      <th>0</th>\n",
       "      <td>2001-01-01T00:00:00.000</td>\n",
       "      <td>48</td>\n",
       "      <td>1</td>\n",
       "    </tr>\n",
       "    <tr>\n",
       "      <th>1</th>\n",
       "      <td>2001-01-01T00:00:00.000</td>\n",
       "      <td>151</td>\n",
       "      <td>1</td>\n",
       "    </tr>\n",
       "    <tr>\n",
       "      <th>2</th>\n",
       "      <td>2001-02-02T00:00:00.000</td>\n",
       "      <td>193</td>\n",
       "      <td>1</td>\n",
       "    </tr>\n",
       "    <tr>\n",
       "      <th>3</th>\n",
       "      <td>2002-02-02T00:00:00.000</td>\n",
       "      <td>48</td>\n",
       "      <td>4</td>\n",
       "    </tr>\n",
       "    <tr>\n",
       "      <th>4</th>\n",
       "      <td>2002-02-02T00:00:00.000</td>\n",
       "      <td>79</td>\n",
       "      <td>1</td>\n",
       "    </tr>\n",
       "  </tbody>\n",
       "</table>\n",
       "</div>"
      ],
      "text/plain": [
       "                    PUDate PULocationID Trips\n",
       "0  2001-01-01T00:00:00.000           48     1\n",
       "1  2001-01-01T00:00:00.000          151     1\n",
       "2  2001-02-02T00:00:00.000          193     1\n",
       "3  2002-02-02T00:00:00.000           48     4\n",
       "4  2002-02-02T00:00:00.000           79     1"
      ]
     },
     "execution_count": 29,
     "metadata": {},
     "output_type": "execute_result"
    }
   ],
   "source": [
    "df_yellow.head()"
   ]
  },
  {
   "cell_type": "code",
   "execution_count": 30,
   "id": "nominated-beijing",
   "metadata": {},
   "outputs": [
    {
     "data": {
      "text/plain": [
       "(87926, 3)"
      ]
     },
     "execution_count": 30,
     "metadata": {},
     "output_type": "execute_result"
    }
   ],
   "source": [
    "df_yellow.shape"
   ]
  },
  {
   "cell_type": "code",
   "execution_count": 32,
   "id": "indonesian-pizza",
   "metadata": {},
   "outputs": [],
   "source": [
    "df_yellow['PUDate'] = pd.to_datetime(df_yellow['PUDate'])"
   ]
  },
  {
   "cell_type": "code",
   "execution_count": 33,
   "id": "cultural-evans",
   "metadata": {},
   "outputs": [],
   "source": [
    "df_yellow['pu_year'] = df_yellow['PUDate'].dt.year\n",
    "df_yellow['pu_month'] = df_yellow['PUDate'].dt.month\n",
    "df_yellow['pu_day'] = df_yellow['PUDate'].dt.day"
   ]
  },
  {
   "cell_type": "code",
   "execution_count": 37,
   "id": "stunning-likelihood",
   "metadata": {},
   "outputs": [
    {
     "data": {
      "text/plain": [
       "2019    87303\n",
       "2020      377\n",
       "2018       87\n",
       "2009       66\n",
       "2008       57\n",
       "2002        9\n",
       "2038        4\n",
       "2029        4\n",
       "2033        3\n",
       "2058        3\n",
       "2001        3\n",
       "2088        2\n",
       "2003        2\n",
       "2015        1\n",
       "2026        1\n",
       "2090        1\n",
       "2010        1\n",
       "2066        1\n",
       "2041        1\n",
       "Name: pu_year, dtype: int64"
      ]
     },
     "execution_count": 37,
     "metadata": {},
     "output_type": "execute_result"
    }
   ],
   "source": [
    "df_yellow.pu_year.value_counts()"
   ]
  },
  {
   "cell_type": "code",
   "execution_count": 38,
   "id": "computational-catering",
   "metadata": {},
   "outputs": [
    {
     "data": {
      "text/plain": [
       "1     7674\n",
       "12    7508\n",
       "7     7497\n",
       "3     7460\n",
       "5     7454\n",
       "8     7451\n",
       "10    7373\n",
       "6     7220\n",
       "4     7178\n",
       "9     7152\n",
       "11    7136\n",
       "2     6823\n",
       "Name: pu_month, dtype: int64"
      ]
     },
     "execution_count": 38,
     "metadata": {},
     "output_type": "execute_result"
    }
   ],
   "source": [
    "df_yellow.pu_month.value_counts()"
   ]
  },
  {
   "cell_type": "code",
   "execution_count": 39,
   "id": "patient-victorian",
   "metadata": {},
   "outputs": [
    {
     "data": {
      "text/plain": [
       "1     2943\n",
       "2     2909\n",
       "16    2906\n",
       "7     2900\n",
       "24    2895\n",
       "8     2894\n",
       "4     2892\n",
       "15    2892\n",
       "14    2889\n",
       "6     2886\n",
       "19    2886\n",
       "10    2884\n",
       "27    2884\n",
       "11    2883\n",
       "13    2883\n",
       "17    2883\n",
       "25    2883\n",
       "12    2881\n",
       "26    2880\n",
       "9     2879\n",
       "3     2879\n",
       "23    2879\n",
       "21    2878\n",
       "18    2877\n",
       "5     2875\n",
       "28    2872\n",
       "20    2868\n",
       "22    2851\n",
       "30    2656\n",
       "29    2639\n",
       "31    1820\n",
       "Name: pu_day, dtype: int64"
      ]
     },
     "execution_count": 39,
     "metadata": {},
     "output_type": "execute_result"
    }
   ],
   "source": [
    "df_yellow.pu_day.value_counts()"
   ]
  },
  {
   "cell_type": "markdown",
   "id": "qualified-reservoir",
   "metadata": {},
   "source": [
    "### Green Taxi 2019"
   ]
  },
  {
   "cell_type": "markdown",
   "id": "judicial-hardware",
   "metadata": {},
   "source": [
    "https://data.cityofnewyork.us/Transportation/2019-Green-Taxi-Trip-Data/q5mz-t52e"
   ]
  },
  {
   "cell_type": "code",
   "execution_count": 40,
   "id": "sticky-yorkshire",
   "metadata": {},
   "outputs": [],
   "source": [
    "# base url\n",
    "base_url_green = 'https://data.cityofnewyork.us/resource/q5mz-t52e.json'"
   ]
  },
  {
   "cell_type": "code",
   "execution_count": 46,
   "id": "trying-warrior",
   "metadata": {},
   "outputs": [],
   "source": [
    "# SQL\n",
    "soql_filter_green = '?$select=date_trunc_ymd(lpep_pickup_datetime) AS PUDate,PULocationID,COUNT(PULocationID) AS Trips\\\n",
    "                      &$group=date_trunc_ymd(lpep_pickup_datetime),PULocationID'"
   ]
  },
  {
   "cell_type": "code",
   "execution_count": 47,
   "id": "useful-victorian",
   "metadata": {},
   "outputs": [
    {
     "name": "stdout",
     "output_type": "stream",
     "text": [
      "https://data.cityofnewyork.us/resource/q5mz-t52e.json?$select=date_trunc_ymd(lpep_pickup_datetime) AS PUDate,PULocationID,COUNT(PULocationID) AS Trips                      &$group=date_trunc_ymd(lpep_pickup_datetime),PULocationID&$limit=100000000\n"
     ]
    }
   ],
   "source": [
    "# combine base url, filter, and limit\n",
    "final_url_green = base_url_green + soql_filter_green + '&' + limit\n",
    "print(final_url_green)"
   ]
  },
  {
   "cell_type": "code",
   "execution_count": 48,
   "id": "elder-sponsorship",
   "metadata": {},
   "outputs": [],
   "source": [
    "# retrieve the data \n",
    "request_green = requests.get(url=final_url_green)\n",
    "df_green = pd.DataFrame(request_green.json())"
   ]
  },
  {
   "cell_type": "code",
   "execution_count": 49,
   "id": "structural-companion",
   "metadata": {},
   "outputs": [
    {
     "data": {
      "text/html": [
       "<div>\n",
       "<style scoped>\n",
       "    .dataframe tbody tr th:only-of-type {\n",
       "        vertical-align: middle;\n",
       "    }\n",
       "\n",
       "    .dataframe tbody tr th {\n",
       "        vertical-align: top;\n",
       "    }\n",
       "\n",
       "    .dataframe thead th {\n",
       "        text-align: right;\n",
       "    }\n",
       "</style>\n",
       "<table border=\"1\" class=\"dataframe\">\n",
       "  <thead>\n",
       "    <tr style=\"text-align: right;\">\n",
       "      <th></th>\n",
       "      <th>PUDate</th>\n",
       "      <th>PULocationID</th>\n",
       "      <th>Trips</th>\n",
       "    </tr>\n",
       "  </thead>\n",
       "  <tbody>\n",
       "    <tr>\n",
       "      <th>0</th>\n",
       "      <td>2008-10-21T00:00:00.000</td>\n",
       "      <td>193</td>\n",
       "      <td>1</td>\n",
       "    </tr>\n",
       "    <tr>\n",
       "      <th>1</th>\n",
       "      <td>2008-12-31T00:00:00.000</td>\n",
       "      <td>7</td>\n",
       "      <td>1</td>\n",
       "    </tr>\n",
       "    <tr>\n",
       "      <th>2</th>\n",
       "      <td>2008-12-31T00:00:00.000</td>\n",
       "      <td>41</td>\n",
       "      <td>3</td>\n",
       "    </tr>\n",
       "    <tr>\n",
       "      <th>3</th>\n",
       "      <td>2008-12-31T00:00:00.000</td>\n",
       "      <td>42</td>\n",
       "      <td>1</td>\n",
       "    </tr>\n",
       "    <tr>\n",
       "      <th>4</th>\n",
       "      <td>2008-12-31T00:00:00.000</td>\n",
       "      <td>69</td>\n",
       "      <td>1</td>\n",
       "    </tr>\n",
       "  </tbody>\n",
       "</table>\n",
       "</div>"
      ],
      "text/plain": [
       "                    PUDate PULocationID Trips\n",
       "0  2008-10-21T00:00:00.000          193     1\n",
       "1  2008-12-31T00:00:00.000            7     1\n",
       "2  2008-12-31T00:00:00.000           41     3\n",
       "3  2008-12-31T00:00:00.000           42     1\n",
       "4  2008-12-31T00:00:00.000           69     1"
      ]
     },
     "execution_count": 49,
     "metadata": {},
     "output_type": "execute_result"
    }
   ],
   "source": [
    "df_green.head()"
   ]
  },
  {
   "cell_type": "markdown",
   "id": "happy-incidence",
   "metadata": {},
   "source": [
    "### FHV 2019"
   ]
  },
  {
   "cell_type": "markdown",
   "id": "interstate-division",
   "metadata": {},
   "source": [
    "https://data.cityofnewyork.us/Transportation/2019-For-Hire-Vehicles-Trip-Data/u6nh-b56h"
   ]
  },
  {
   "cell_type": "code",
   "execution_count": 52,
   "id": "chubby-cradle",
   "metadata": {},
   "outputs": [],
   "source": [
    "# base url\n",
    "base_url_fhv = 'https://data.cityofnewyork.us/resource/u6nh-b56h.json'"
   ]
  },
  {
   "cell_type": "code",
   "execution_count": 53,
   "id": "automated-illness",
   "metadata": {},
   "outputs": [],
   "source": [
    "# filter for March and April\n",
    "soql_filter_fhv = '?$where=date_extract_m(pickup_datetime) in (3, 4)'"
   ]
  },
  {
   "cell_type": "code",
   "execution_count": 54,
   "id": "violent-clerk",
   "metadata": {},
   "outputs": [],
   "source": [
    "# SQL\n",
    "soql_filter_fhv = '?$select=date_trunc_ymd(pickup_datetime) AS PUDate,PULocationID,COUNT(PULocationID) AS Trips\\\n",
    "                       &$group=date_trunc_ymd(pickup_datetime),PULocationID'"
   ]
  },
  {
   "cell_type": "code",
   "execution_count": 55,
   "id": "vietnamese-wagner",
   "metadata": {},
   "outputs": [
    {
     "name": "stdout",
     "output_type": "stream",
     "text": [
      "https://data.cityofnewyork.us/resource/u6nh-b56h.json?$select=date_trunc_ymd(pickup_datetime) AS PUDate,PULocationID,COUNT(PULocationID) AS Trips                       &$group=date_trunc_ymd(pickup_datetime),PULocationID&$limit=100000000\n"
     ]
    }
   ],
   "source": [
    "# combine base url, filter, and limit\n",
    "final_url_fhv = base_url_fhv + soql_filter_fhv + '&' + limit\n",
    "print(final_url_fhv)"
   ]
  },
  {
   "cell_type": "code",
   "execution_count": 56,
   "id": "ambient-humidity",
   "metadata": {},
   "outputs": [],
   "source": [
    "# retrieve the data \n",
    "request_fhv = requests.get(url=final_url_fhv)\n",
    "df_fhv = pd.DataFrame(request_fhv.json())"
   ]
  },
  {
   "cell_type": "code",
   "execution_count": 57,
   "id": "refined-survey",
   "metadata": {},
   "outputs": [
    {
     "data": {
      "text/html": [
       "<div>\n",
       "<style scoped>\n",
       "    .dataframe tbody tr th:only-of-type {\n",
       "        vertical-align: middle;\n",
       "    }\n",
       "\n",
       "    .dataframe tbody tr th {\n",
       "        vertical-align: top;\n",
       "    }\n",
       "\n",
       "    .dataframe thead th {\n",
       "        text-align: right;\n",
       "    }\n",
       "</style>\n",
       "<table border=\"1\" class=\"dataframe\">\n",
       "  <thead>\n",
       "    <tr style=\"text-align: right;\">\n",
       "      <th></th>\n",
       "      <th>PUDate</th>\n",
       "      <th>PULocationID</th>\n",
       "      <th>Trips</th>\n",
       "    </tr>\n",
       "  </thead>\n",
       "  <tbody>\n",
       "    <tr>\n",
       "      <th>0</th>\n",
       "      <td>2019-01-01T00:00:00.000</td>\n",
       "      <td>1</td>\n",
       "      <td>241</td>\n",
       "    </tr>\n",
       "    <tr>\n",
       "      <th>1</th>\n",
       "      <td>2019-01-01T00:00:00.000</td>\n",
       "      <td>3</td>\n",
       "      <td>1093</td>\n",
       "    </tr>\n",
       "    <tr>\n",
       "      <th>2</th>\n",
       "      <td>2019-01-01T00:00:00.000</td>\n",
       "      <td>4</td>\n",
       "      <td>2926</td>\n",
       "    </tr>\n",
       "    <tr>\n",
       "      <th>3</th>\n",
       "      <td>2019-01-01T00:00:00.000</td>\n",
       "      <td>5</td>\n",
       "      <td>221</td>\n",
       "    </tr>\n",
       "    <tr>\n",
       "      <th>4</th>\n",
       "      <td>2019-01-01T00:00:00.000</td>\n",
       "      <td>6</td>\n",
       "      <td>248</td>\n",
       "    </tr>\n",
       "  </tbody>\n",
       "</table>\n",
       "</div>"
      ],
      "text/plain": [
       "                    PUDate PULocationID Trips\n",
       "0  2019-01-01T00:00:00.000            1   241\n",
       "1  2019-01-01T00:00:00.000            3  1093\n",
       "2  2019-01-01T00:00:00.000            4  2926\n",
       "3  2019-01-01T00:00:00.000            5   221\n",
       "4  2019-01-01T00:00:00.000            6   248"
      ]
     },
     "execution_count": 57,
     "metadata": {},
     "output_type": "execute_result"
    }
   ],
   "source": [
    "df_fhv.head()"
   ]
  },
  {
   "cell_type": "markdown",
   "id": "involved-generation",
   "metadata": {},
   "source": [
    "### High-Volume FHV 2019"
   ]
  },
  {
   "cell_type": "markdown",
   "id": "bright-lottery",
   "metadata": {},
   "source": [
    "https://data.cityofnewyork.us/Transportation/2019-High-Volume-FHV-Trip-Records/4p5c-cbgn"
   ]
  },
  {
   "cell_type": "code",
   "execution_count": 58,
   "id": "handled-joining",
   "metadata": {},
   "outputs": [],
   "source": [
    "# base url\n",
    "base_url_hvfhv = 'https://data.cityofnewyork.us/resource/4p5c-cbgn.json'"
   ]
  },
  {
   "cell_type": "code",
   "execution_count": 59,
   "id": "indian-dealer",
   "metadata": {},
   "outputs": [],
   "source": [
    "# SQL\n",
    "soql_filter_hvfhv = '?$select=date_trunc_ymd(pickup_datetime) AS PUDate,PULocationID,COUNT(PULocationID) AS Trips\\\n",
    "                       &$group=date_trunc_ymd(pickup_datetime),PULocationID'"
   ]
  },
  {
   "cell_type": "code",
   "execution_count": 60,
   "id": "charitable-blogger",
   "metadata": {},
   "outputs": [
    {
     "name": "stdout",
     "output_type": "stream",
     "text": [
      "https://data.cityofnewyork.us/resource/4p5c-cbgn.json?$select=date_trunc_ymd(pickup_datetime) AS PUDate,PULocationID,COUNT(PULocationID) AS Trips                       &$group=date_trunc_ymd(pickup_datetime),PULocationID&$limit=100000000\n"
     ]
    }
   ],
   "source": [
    "# combine base url, filter, and limit\n",
    "final_url_hvfhv = base_url_hvfhv + soql_filter_hvfhv + '&' + limit\n",
    "print(final_url_hvfhv)"
   ]
  },
  {
   "cell_type": "code",
   "execution_count": null,
   "id": "coupled-chester",
   "metadata": {},
   "outputs": [],
   "source": [
    "# retrieve the data \n",
    "request_hvfhv = requests.get(url=final_url_hvfhv)\n",
    "df_hvfhv = pd.DataFrame(request_hvfhv.json())"
   ]
  },
  {
   "cell_type": "code",
   "execution_count": null,
   "id": "universal-glory",
   "metadata": {},
   "outputs": [],
   "source": []
  }
 ],
 "metadata": {
  "kernelspec": {
   "display_name": "Python 3",
   "language": "python",
   "name": "python3"
  },
  "language_info": {
   "codemirror_mode": {
    "name": "ipython",
    "version": 3
   },
   "file_extension": ".py",
   "mimetype": "text/x-python",
   "name": "python",
   "nbconvert_exporter": "python",
   "pygments_lexer": "ipython3",
   "version": "3.9.1"
  }
 },
 "nbformat": 4,
 "nbformat_minor": 5
}
